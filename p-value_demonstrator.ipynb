{
 "cells": [
  {
   "cell_type": "code",
   "execution_count": 1,
   "metadata": {},
   "outputs": [],
   "source": [
    "import numpy as np\n",
    "import statsmodels.stats.weightstats as sts\n",
    "import scipy.stats as sst\n",
    "\n",
    "import matplotlib.pyplot as plt"
   ]
  },
  {
   "cell_type": "markdown",
   "metadata": {},
   "source": [
    "Generate a normal random variable $X$ with known mean and variance, and plot it."
   ]
  },
  {
   "cell_type": "code",
   "execution_count": 2,
   "metadata": {},
   "outputs": [
    {
     "name": "stdout",
     "output_type": "stream",
     "text": [
      "mean and variance:   0.000 vs   0.000  -    1.000 vs   1.000\n"
     ]
    },
    {
     "data": {
      "image/png": "[encoded data removed]",
      "text/plain": [
       "<Figure size 432x288 with 1 Axes>"
      ]
     },
     "metadata": {
      "needs_background": "light"
     },
     "output_type": "display_data"
    }
   ],
   "source": [
    "n_sample = 10000000\n",
    "\n",
    "x_mean=0\n",
    "x_sdev=1\n",
    "\n",
    "X = np.random.normal(loc = x_mean, scale = x_sdev, size = n_sample)#*sign_x\n",
    "\n",
    "print('mean and variance: {:7.3f} vs {:7.3f}  -  {:7.3f} vs {:7.3f}'.format(X.mean(),x_mean,X.std(ddof = 1)**2,x_sdev**2))\n",
    "\n",
    "plt.hist(X,density = True, bins = 200, histtype = 'step', label = 'empirical density of X')\n",
    "h = np.linspace(- 3, 3, 100)\n",
    "plt.plot(h, sst.norm.pdf(h, x_mean, x_sdev), label = 'Normal distribution')\n",
    "plt.xlabel('X')\n",
    "plt.ylabel('pdf')\n",
    "plt.legend()\n",
    "plt.show()"
   ]
  },
  {
   "cell_type": "markdown",
   "metadata": {},
   "source": [
    "## z-test on sample mean\n",
    "\n",
    "Establish $H_0:=\\{\\mathbb E[X]=a\\}$ vs $H_1:=\\{\\mathbb E[X]=b\\}$.\n",
    "Compute the likelihood ratio:\n",
    "\n",
    "$$ LR:=\\frac{\\prod_i \\exp\\left[-\\frac{(x_i-b)^2}{2\\sigma^2}\\right]}{\\prod_i \\exp\\left[-\\frac{(x_i-a)^2}{2\\sigma^2}\\right]}=\n",
    "\\prod_i \\exp\\left[\\frac{(x_i-a)^2-(x_i-b)^2}{2\\sigma^2}\\right] =\n",
    "\\prod_i \\exp\\left[\\frac{(b-a)x_i}{\\sigma^2}-\\frac{b^2-a^2}{2\\sigma^2}\\right]=\n",
    "\\exp\\left[\\frac{(b-a)\\sum_i x_i}{\\sigma^2}-\\frac{N(b^2-a^2)}{2\\sigma^2}\\right]=\n",
    "\\exp\\left[\\frac{(b-a)\\frac 1N\\sum_i x_i}{N^{-1}\\sigma^2}-\\frac{b^2-a^2}{2N^{-1}\\sigma^2}\\right].$$\n",
    "\n",
    "Define a rejection region as $\\mathcal R:=\\{X:LR>c\\}$ for some $c$ to be defined, and select it such that $\\mathbb P(X\\in \\mathcal R)=\\alpha$.\n",
    "Check that:\n",
    "$$ LR>c \\Leftrightarrow\n",
    "\\frac{ \\frac 1N\\sum_i x_i-a}{N^{-\\frac12}\\sigma}\\gtrless\\frac{\\sigma\\ln c}{N^{\\frac12}(b-a)}+ \\frac{b-a}{2N^{-\\frac12}\\sigma}\\Rightarrow\n",
    "\\mathbb P_{H_0}(X\\in\\mathcal R)=\\Phi\\left(\\mp \\left(\\frac{\\sigma\\ln c}{N^{\\frac12}(b-a)}+ \\frac{b-a}{2N^{-\\frac12}\\sigma}\\right)\\right)=\\alpha\\Rightarrow\n",
    "\\ln c =\\mp \\frac{\\sqrt N(b-a)}{\\sigma}q_\\alpha-\\frac{N(b-a)^2}{2\\sigma^2}.$$\n",
    "Note: if $\\alpha$ grows, $c$ decreases, meaning that the rejection region widens. It makes sense, because we reject $H_0$ more likely.\n",
    "\n",
    "The p-value $\\pi$ is defined as $\\pi:=\\inf\\{\\alpha:LR>c\\}$, that is:\n",
    "$$ LR>c \\Rightarrow \\frac{ \\frac 1N\\sum_i x_i-a}{N^{-\\frac12}\\sigma}\\gtrless\\pm q_{1-\\alpha}.$$\n",
    "\n",
    "Verify the computations: perform a z-test assuming $b\\gtrless a$ and check if $\\frac{ \\frac 1N\\sum_i x_i-a}{N^{-\\frac12}\\sigma}=\\pm q_{1-\\alpha}$ and if $\\alpha=\\pi$."
   ]
  },
  {
   "cell_type": "code",
   "execution_count": 3,
   "metadata": {},
   "outputs": [
    {
     "name": "stdout",
     "output_type": "stream",
     "text": [
      "1.3094916576603475 1.3094916576603477 0.09518393088782129\n",
      "1.3094916576603475 1.3094916576603477 0.9048160691121787\n"
     ]
    }
   ],
   "source": [
    "q_1_a, pi = sts.ztest(X,value = x_mean, alternative = 'larger')\n",
    "\n",
    "print(X.mean() / ( X.std(ddof = 1)/np.sqrt(n_sample) ) , sst.norm.ppf(1-pi), pi)\n",
    "\n",
    "q_1_a, pi = sts.ztest(X,value = x_mean, alternative = 'smaller')\n",
    "\n",
    "print(X.mean() / ( X.std(ddof = 1)/np.sqrt(n_sample) ) , -sst.norm.ppf(1-pi), pi)"
   ]
  },
  {
   "cell_type": "markdown",
   "metadata": {},
   "source": [
    "## $\\chi^2$-test on sample variance\n",
    "\n",
    "The ratio $\\frac{(n-1)\\hat\\sigma^2}{\\sigma^2}$ is distributed about a $\\chi^2_{n-1}$ distribution, so establish $H_0:=\\{\\mathbb V[X]=a\\}$ vs $H_1:=\\{\\mathbb V[X]=b\\}$, and $\\mathbb E[x]=x$.\n",
    "Compute the likelihood ratio:\n",
    "\n",
    "$$ LR:=\\frac{\\prod_i \\exp\\left[-\\frac{(x_i-x)^2}{2b}\\right]}{\\prod_i \\exp\\left[-\\frac{(x_i-x)^2}{2a}\\right]}=\n",
    "\\prod_i \\exp\\left[\\frac{(x_i-x)^2}{2}\\left(a^{-1}-b^{-1}\\right)\\right] =\n",
    "\\exp\\left[\\frac{\\sum_i(x_i-x)^2}{2}\\left(a^{-1}-b^{-1}\\right)\\right] =\n",
    "\\exp\\left[\\frac{\\hat\\sigma^2}2\\left(a^{-1}-b^{-1}\\right)\\right].$$\n",
    "\n",
    "Define a rejection region as $\\mathcal R:=\\{X:LR>c\\}$ for some $c$ to be defined, and select it such that $\\mathbb P(X\\in \\mathcal R)=\\alpha$.\n",
    "Check that:\n",
    "$$ LR>c \\Leftrightarrow\n",
    "\\frac{(n-1)\\hat\\sigma^2}{a}\\gtrless \\frac {2b}{b-a}\\ln c\n",
    "\\Rightarrow\n",
    "\\mathbb P_{H_0}(X\\in\\mathcal R)=\\alpha=\n",
    "\\begin{cases}\n",
    "  1-\\chi^2_{n-1}\\left(\\frac {2b}{b-a}\\ln c\\right) & b>a \\\\\n",
    "    \\chi^2_{n-1}\\left(\\frac {2b}{b-a}\\ln c\\right) & \\text{oth.}\n",
    "\\end{cases}\\Rightarrow\n",
    "\\ln c =\n",
    "\\begin{cases}\n",
    "    \\frac {b-a}{2b}q_{1-\\alpha} & b>a \\\\\n",
    "   -\\frac {a-b}{2b}q_{\\alpha} & \\text{oth.}\n",
    "\\end{cases}.$$\n",
    "Note: if $\\alpha$ grows, $c$ decreases, meaning that the rejection region widens. It makes sense, because we reject $H_0$ more likely.\n",
    "\n",
    "The p-value $\\pi$ is defined as $\\pi:=\\inf\\{\\alpha:LR>c\\}$, that is:\n",
    "$$ LR>c \\Rightarrow \\frac{(n-1)\\hat\\sigma^2}{a}\\gtrless \\frac {2b}{b-a}\\ln c=\\begin{cases}\n",
    "    q_{1-\\alpha} & b>a \\\\\n",
    "    q_{\\alpha} & \\text{oth.}\n",
    "\\end{cases}.$$\n"
   ]
  },
  {
   "cell_type": "code",
   "execution_count": 4,
   "metadata": {},
   "outputs": [
    {
     "name": "stdout",
     "output_type": "stream",
     "text": [
      "0.2686413585651578\n",
      "0.7313586414348422\n"
     ]
    }
   ],
   "source": [
    "# b > a\n",
    "pi = sst.chi2.cdf((n_sample-1)*X.var(ddof = 1)/x_sdev**2, df = n_sample-1)\n",
    "print(1-pi)\n",
    "\n",
    "# b < a\n",
    "print(pi)"
   ]
  },
  {
   "cell_type": "code",
   "execution_count": 5,
   "metadata": {},
   "outputs": [
    {
     "data": {
      "text/plain": [
       "'H_0 not rejected'"
      ]
     },
     "execution_count": 5,
     "metadata": {},
     "output_type": "execute_result"
    }
   ],
   "source": [
    "## validation taken from: https://stats.stackexchange.com/questions/495912/chi2-test-for-the-variance-in-python\n",
    "\n",
    "def var_test(x, va0, direction = \"two-tailed\", alpha = 0.05):\n",
    "    n = len(x)\n",
    "    Q = (n - 1) * np.var(x) / va0 \n",
    "    if direction == \"lower\":\n",
    "        q = sst.chi2.ppf(alpha, n - 1)\n",
    "        if Q <= q:\n",
    "            return \"H_0 rejected\"\n",
    "        else:\n",
    "            return \"H_0 not rejected\"\n",
    "    elif direction == \"upper\":\n",
    "        q = sst.chi2.ppf(alpha, n - 1)\n",
    "        if Q >= q:\n",
    "            return \"H_0 rejected\"\n",
    "        else:\n",
    "            return \"H_0 not rejected\"\n",
    "    else:\n",
    "        q1 = sst.chi2.ppf(alpha / 2, n - 1)\n",
    "        q2 = sst.chi2.ppf(1 - (alpha / 2), n - 1)\n",
    "        if Q <= q1 or Q >= q2:\n",
    "            return \"H_0 rejected\"\n",
    "        else:\n",
    "            return \"H_0 not rejected\"\n",
    "\n",
    "var_test(X, va0 = 1)"
   ]
  },
  {
   "cell_type": "markdown",
   "metadata": {},
   "source": [
    "## Gaussianity test\n",
    "\n",
    "Test the $H_0:=\\{\\mathbf X\\sim \\mathcal N(a,\\sigma^2)\\}$. Fact (Kolmogorov-Smirnov): define $D_n:=\\sup_{x\\in\\mathbb R}\\left|\\hat F_n(x)-F(x)\\right|$, then $$\\mathbb P\\left(\\sqrt n D_n\\leq z\\right)\\rightarrow H(z):=1-2\\sum_{k=1}^\\infty (-1)^{k-1} e^{-2k^2 z}.$$\n",
    "\n",
    "Build the test: $\\mathcal R:=\\left\\{\\sqrt n D_n > c\\right\\}$, so that $\\mathbb P_{H_0}\\left( \\sqrt n D_n > c \\right)=\\alpha=1-H(c)$. Then $c=q_{1-\\alpha}$, so $\\mathcal R=\\left\\{\\sqrt n D_n > q_{1-\\alpha}\\right\\}$ and $ \\pi =  1 - H\\left(\\sqrt n D_n\\right)$."
   ]
  },
  {
   "cell_type": "code",
   "execution_count": 10,
   "metadata": {},
   "outputs": [],
   "source": [
    "def ks_cdf(z):\n",
    "    Hz = 1\n",
    "    for k in range(1,100000):\n",
    "        Hz -= 2*(-1)**(k-1)*np.exp(-2*k**2*z)\n",
    "    return Hz\n",
    "\n",
    "def empirical_cdf(X):\n",
    "    Y = np.sort(X)\n",
    "    Z = np.linspace(1,len(X),len(X))/len(X)\n",
    "    return Y, Z\n",
    "\n",
    "def D_n(X):\n",
    "    Y, Z = empirical_cdf(X)\n",
    "    return np.abs(Z-sst.norm.cdf(Y)).max()"
   ]
  },
  {
   "cell_type": "code",
   "execution_count": 15,
   "metadata": {},
   "outputs": [
    {
     "name": "stdout",
     "output_type": "stream",
     "text": [
      "0.6608765062991604 0.45897926102604836\n"
     ]
    }
   ],
   "source": [
    "KS_statistic, pi = sst.kstest(X, sst.norm.cdf)\n",
    "my_pi = 1 - ks_cdf(np.sqrt(n_sample)*D_n(X))\n",
    "\n",
    "print(pi, my_pi)"
   ]
  }
 ],
 "metadata": {
  "kernelspec": {
   "display_name": "Python 3",
   "language": "python",
   "name": "python3"
  },
  "language_info": {
   "codemirror_mode": {
    "name": "ipython",
    "version": 3
   },
   "file_extension": ".py",
   "mimetype": "text/x-python",
   "name": "python",
   "nbconvert_exporter": "python",
   "pygments_lexer": "ipython3",
   "version": "3.7.4"
  }
 },
 "nbformat": 4,
 "nbformat_minor": 4
}
