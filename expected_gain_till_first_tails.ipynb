{
 "cells": [
  {
   "cell_type": "code",
   "execution_count": 2,
   "metadata": {},
   "outputs": [],
   "source": [
    "import numpy as np"
   ]
  },
  {
   "cell_type": "markdown",
   "metadata": {},
   "source": [
    "# Coin flipping with stopping\n",
    "\n",
    "A rigged coin ($\\mathbb P(H)=0.55$) is flipped till the first tails. You gain 1 for each heads, and lose 0.9 for each tails. What is the expected payoff?\n",
    "\n",
    "Let's say tails comes at the $n$-th flip. The the payoff is $n-1-0.9$, with probability $p^{n-1}(1-p)$. Then\n",
    "$$\\mathbb E[k-1-0.9] = \\sum_{k=1}^\\infty p^{k-1}(1-p)(k-1-0.9)=\\mathbb E[k]-1.9=\\frac1{1-p}-1.9=0.3\\bar{2}$$"
   ]
  },
  {
   "cell_type": "code",
   "execution_count": 18,
   "metadata": {},
   "outputs": [
    {
     "name": "stdout",
     "output_type": "stream",
     "text": [
      "0.32222222222222235\n"
     ]
    }
   ],
   "source": [
    "expected_payoff = 0\n",
    "p               = 0.55\n",
    "for k in range(1,1000):\n",
    "    expected_payoff += p**(k-1)*(1-p)*(k-1-0.9)\n",
    "print(expected_payoff)"
   ]
  },
  {
   "cell_type": "markdown",
   "metadata": {},
   "source": [
    "A Monte Carlo simulation gives:"
   ]
  },
  {
   "cell_type": "code",
   "execution_count": 9,
   "metadata": {},
   "outputs": [
    {
     "name": "stdout",
     "output_type": "stream",
     "text": [
      "0.3233128999989036\n"
     ]
    }
   ],
   "source": [
    "games = 1000000\n",
    "vincite = 0\n",
    "for i in range(1,games):\n",
    "    budget = 0\n",
    "    while True:\n",
    "        if np.random.uniform() < 0.55:\n",
    "            budget += 1\n",
    "        else:\n",
    "            budget -= 0.9\n",
    "            break\n",
    "    vincite += budget\n",
    "print(vincite/games)"
   ]
  }
 ],
 "metadata": {
  "kernelspec": {
   "display_name": "Python 3",
   "language": "python",
   "name": "python3"
  },
  "language_info": {
   "codemirror_mode": {
    "name": "ipython",
    "version": 3
   },
   "file_extension": ".py",
   "mimetype": "text/x-python",
   "name": "python",
   "nbconvert_exporter": "python",
   "pygments_lexer": "ipython3",
   "version": "3.7.4"
  }
 },
 "nbformat": 4,
 "nbformat_minor": 4
}
