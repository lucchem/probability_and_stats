{
 "cells": [
  {
   "cell_type": "code",
   "execution_count": 1,
   "metadata": {},
   "outputs": [],
   "source": [
    "import numpy as np\n",
    "import matplotlib.pyplot as plt"
   ]
  },
  {
   "cell_type": "markdown",
   "metadata": {},
   "source": [
    "Interview question: _Toss a coin till two consecutive heads or tails are shown. $\\mathbb P(H)=p$. $\\mathbb P(HH)=?$_\n",
    "\n",
    "This is a Markov chain with states $TT$, $T$, $H$, $HH$, with $TT$ and $HH$ absorbing states. Set $P_{TT}=0$, $P_{HH}=1$, solve the arising system:\n",
    "\n",
    "\\begin{align*}\n",
    "P_H & = p     P_{HH} + (1-p) P_{T} = p + (1-p) P_{T}\\\\\n",
    "P_T & = (1-p) P_{TT} + p     P_{H} = p P_{H}\\\\\n",
    "\\Rightarrow P_H&=p+(1-p)p P_{H}=\\frac p{p^2 - p + 1}, P_T=\\frac {p^2}{p^2 - p + 1}.\n",
    "\\end{align*}\n",
    "\n",
    "Recall that $P_H=\\mathbb P(HH|H)$, $P_T=\\mathbb P(HH|T)$, so \n",
    "$$\\mathbb P(HH)=\\mathbb P(HH|H)\\mathbb P(H)+\\mathbb P(HH|T)\\mathbb P(T)=p\\frac p{p^2 - p + 1}+(1-p)\\frac {p^2}{p^2 - p + 1}=\n",
    "\\frac{2p^2-p^3}{p^2 - p + 1}.$$\n",
    "\n",
    "The next cell computes $\\mathbb P(HH)$:"
   ]
  },
  {
   "cell_type": "code",
   "execution_count": 2,
   "metadata": {},
   "outputs": [
    {
     "name": "stdout",
     "output_type": "stream",
     "text": [
      "0.86629 0.8653846153846154\n"
     ]
    }
   ],
   "source": [
    "p = 0.75\n",
    "n_games = 100000\n",
    "\n",
    "wins = 0\n",
    "for game in range(n_games):\n",
    "    flip = np.random.uniform()\n",
    "    if flip < p:\n",
    "        H = 1\n",
    "    else:\n",
    "        H = 0\n",
    "    while H != -1 and H != 2:\n",
    "        flip = np.random.uniform()\n",
    "        if  flip < p:\n",
    "            H += 1\n",
    "        else:\n",
    "            H -= 1\n",
    "    if H == 2:\n",
    "        wins += 1\n",
    "\n",
    "print(wins/n_games,(2*p**2-p**3)/(p**2-p+1))"
   ]
  },
  {
   "cell_type": "markdown",
   "metadata": {},
   "source": [
    "while this one computes $P_T$."
   ]
  },
  {
   "cell_type": "code",
   "execution_count": 3,
   "metadata": {},
   "outputs": [
    {
     "name": "stdout",
     "output_type": "stream",
     "text": [
      "0.45258 0.450503001098994\n"
     ]
    }
   ],
   "source": [
    "p = 0.584\n",
    "n_games = 100000\n",
    "\n",
    "wins = 0\n",
    "for game in range(n_games):\n",
    "\n",
    "    H = 0\n",
    "    while H != -1 and H != 2:\n",
    "        flip = np.random.uniform()\n",
    "        if  flip < p:\n",
    "            H += 1\n",
    "        else:\n",
    "            H -= 1\n",
    "    if H == 2:\n",
    "        wins += 1\n",
    "\n",
    "print(wins/n_games,p**2/(p**2-p+1))"
   ]
  },
  {
   "cell_type": "code",
   "execution_count": 4,
   "metadata": {},
   "outputs": [
    {
     "data": {
      "image/png": "[encoded data removed]",
      "text/plain": [
       "<Figure size 432x288 with 1 Axes>"
      ]
     },
     "metadata": {
      "needs_background": "light"
     },
     "output_type": "display_data"
    }
   ],
   "source": [
    "p = np.linspace(0,1,100)\n",
    "plt.plot(p,(2*p**2-p**3)/(p**2-p+1), label=r'$\\mathbb{P}(HH)$')\n",
    "plt.plot(p,p**2/(p**2-p+1), label=r'$\\mathbb{P}(HH|T)$')\n",
    "plt.plot(p,p/(p**2-p+1), label=r'$\\mathbb{P}(HH|H)$')\n",
    "plt.xlabel('p')\n",
    "plt.legend()\n",
    "plt.show()"
   ]
  },
  {
   "cell_type": "markdown",
   "metadata": {},
   "source": [
    "Approach by symmetry: at any moment, every game is a sequence like $HTHTHTHT\\dots$ or $THTHTHTH\\dots$, so for every game there exists a perfectly symmetrical one.\n",
    "\n",
    "A game can start and end with the same face like $HTHT\\dots THH$, so it would have an even number of games, with in example $k+2$ heads and $k$ tails, or the other way around.\n",
    "\n",
    "If it has an odd number of flips, they must necessarily be like $THT .. THH$, so $k$ tails and $k+1$ heads.\n",
    "\n",
    "So:\n",
    "\n",
    "$$\\mathbb P(HH)=p^2\\sum_{k=0}^{\\infty}\\left(p(1-p)\\right)^k+p\\sum_{k=1}^{\\infty}\\left((1-p)p\\right)^k=(p^2+p)\\sum_{k=0}^{\\infty}\\left((1-p)p\\right)^k-p=\\frac{p^2+p-p(1-p+p^2)}{1-p+p^2}=\\frac{2p^2-p^3}{p^2 - p + 1}.$$"
   ]
  }
 ],
 "metadata": {
  "kernelspec": {
   "display_name": "Python 3",
   "language": "python",
   "name": "python3"
  },
  "language_info": {
   "codemirror_mode": {
    "name": "ipython",
    "version": 3
   },
   "file_extension": ".py",
   "mimetype": "text/x-python",
   "name": "python",
   "nbconvert_exporter": "python",
   "pygments_lexer": "ipython3",
   "version": "3.7.4"
  }
 },
 "nbformat": 4,
 "nbformat_minor": 4
}
