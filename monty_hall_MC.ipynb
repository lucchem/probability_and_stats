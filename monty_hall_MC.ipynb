{
 "cells": [
  {
   "cell_type": "code",
   "execution_count": 1,
   "metadata": {},
   "outputs": [],
   "source": [
    "import numpy as np\n",
    "import matplotlib.pyplot as plt"
   ]
  },
  {
   "cell_type": "markdown",
   "metadata": {},
   "source": [
    "# Monty Hall via Monte Carlo\n",
    "\n",
    "Show that the solution is true by Monte Carlo opening the door. Door number 0 wins, while 1 and 2 lose. Weird door numbering to enjoy modulo algebra."
   ]
  },
  {
   "cell_type": "code",
   "execution_count": 4,
   "metadata": {},
   "outputs": [
    {
     "data": {
      "image/png": "[encoded data removed]",
      "text/plain": [
       "<Figure size 432x288 with 1 Axes>"
      ]
     },
     "metadata": {
      "needs_background": "light"
     },
     "output_type": "display_data"
    }
   ],
   "source": [
    "change = False\n",
    "wins   = 0\n",
    "rate   = []\n",
    "n      = 10000\n",
    "\n",
    "for i in range(1,n+1):\n",
    "    door = np.random.random_integers(0,2)\n",
    "\n",
    "    open_door = 2 if door == 1 else 1\n",
    "\n",
    "    if change :\n",
    "        door = (door+1) % 3\n",
    "        if door == open_door:\n",
    "            door = (door+1) % 3\n",
    "    if door == 0:\n",
    "        wins += 1\n",
    "\n",
    "    rate.append(wins/i*100)\n",
    "\n",
    "plt.xlabel('games played')\n",
    "plt.ylabel('winning rate [%] if{}changing door'.format(str(' ' if change else ' not ')))\n",
    "plt.plot(rate)\n",
    "plt.show()"
   ]
  },
  {
   "cell_type": "markdown",
   "metadata": {},
   "source": [
    "### Explanation\n",
    "\n",
    "Keep the winning door at 0, and let's list all cases, or build the sample space $\\Omega:=\\{\\omega_i\\}_{i=1}^6$, where $\\mathbb P(\\omega_i)=\\frac16,\\,i=1,..,6$:\n",
    "\n",
    "1. $\\omega_1$: choose 0, switch: lose\n",
    "2. $\\omega_2$: choose 0, keep: win\n",
    "3. $\\omega_3$: choose 1, switch: win\n",
    "4. $\\omega_4$: choose 1, keep: lose\n",
    "5. $\\omega_5$: choose 2, switch: win\n",
    "6. $\\omega_6$: choose 2, keep: lose\n",
    "    \n",
    "It is clear already that, switching appears three (equiprobable) times, while switching and winning appears two times, so switching implies more chances to win than to lose, with a ratio 2:1.\n",
    "\n",
    "One can proceed more formally. The sample space can be partitioned in different ways: win or lose ($W:=\\{\\omega_2,\\omega_3,\\omega_5\\}$ vs $L:=\\{\\omega_1,\\omega_4,\\omega_6\\}$); switch or keep ($S:=\\{\\omega_1,\\omega_3,\\omega_5\\}$ vs $K:=\\{\\omega_2,\\omega_4,\\omega_6\\}$); choose door 0, 1, or 2  ($0:=\\{\\omega_1,\\omega_2\\}$ vs $1:=\\{\\omega_3,\\omega_4\\}$ vs $2:=\\{\\omega_5,\\omega_6\\}$); The intersections between these subsets individuate the different events.\n",
    "\n",
    "By direct observation, $\\mathbb P(W)=\\frac12$, and this is happening only because we allow switching door. If we didn't, one would have to measure it only given the cases 2,4,6, meaning that $\\mathbb P(W)=\\frac13$. By introducing switching the game becomes fair.\n",
    "\n",
    "Note:\n",
    "$$\\mathbb P(W\\cap S)=\\mathbb P(\\{\\omega_3,\\omega_5\\})=\\frac13\\qquad\\mathbb P(W\\cap K)=\\mathbb P(\\{\\omega_2\\})=\\frac16,$$\n",
    "meaning that _before starting playing_, switching is already a promising option, because it actually carries most of the chance of winning than if staying.\n",
    "\n",
    "_After_ one switches (that is, conditional probability):\n",
    "$$\\mathbb P(W|S)=\\frac{\\mathbb P(W\\cap S)}{\\mathbb P(S)}=\\frac{\\mathbb P(\\{\\omega_3,\\omega_5\\})}{\\mathbb P(\\{\\omega_1,\\omega_3,\\omega_5\\})}=\\frac 13\\bigg/\\frac12=\\frac23.$$"
   ]
  }
 ],
 "metadata": {
  "kernelspec": {
   "display_name": "Python 3",
   "language": "python",
   "name": "python3"
  },
  "language_info": {
   "codemirror_mode": {
    "name": "ipython",
    "version": 3
   },
   "file_extension": ".py",
   "mimetype": "text/x-python",
   "name": "python",
   "nbconvert_exporter": "python",
   "pygments_lexer": "ipython3",
   "version": "3.7.4"
  }
 },
 "nbformat": 4,
 "nbformat_minor": 4
}
