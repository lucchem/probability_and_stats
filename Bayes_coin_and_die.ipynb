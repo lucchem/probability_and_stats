{
 "cells": [
  {
   "cell_type": "code",
   "execution_count": 1,
   "metadata": {},
   "outputs": [],
   "source": [
    "import numpy as np\n",
    "import scipy.special as sp"
   ]
  },
  {
   "cell_type": "markdown",
   "metadata": {},
   "source": [
    "# Bayes theorem: roll a die and flip a coin\n",
    "\n",
    "Roll a $n$-die and get $m$, so flip $m$ times a fair coin. What is the probability that the die rolled $m$ given that we observed $l$ heads.\n",
    "\n",
    "By Bayes formula:\n",
    "    $$P(\\text{rolled }m|l\\text{ heads})=\n",
    "    \\dfrac{P(l\\text{ heads}|\\text{rolled }m)P(\\text{rolled }m)}{\\sum_{m=l}^n P(l\\text{ heads}|\\text{rolled }m)P(\\text{rolled }m)}=\n",
    "    \\dfrac{\\displaystyle\\binom{m}{l}\\left(\\frac12\\right)^m\\frac 1n}{\\sum_{m=l}^n\\displaystyle\\binom{m}{l}\\left(\\frac12\\right)^m\\frac 1n}=\n",
    "    \\dfrac{\\displaystyle\\binom{m}{l}\\left(\\frac12\\right)^m}{\\sum_{m=l}^n\\displaystyle\\binom{m}{l}\\left(\\frac12\\right)^m}$$\n",
    "    \n",
    "Example: 4-die, chance of having rolled 4 if 3 heads were observed:"
   ]
  },
  {
   "cell_type": "code",
   "execution_count": 2,
   "metadata": {},
   "outputs": [
    {
     "name": "stdout",
     "output_type": "stream",
     "text": [
      "0.25\n"
     ]
    }
   ],
   "source": [
    "n = 6\n",
    "m = 4\n",
    "l = 3\n",
    "P = sp.binom(m,l)*0.5**m/sum([ sp.binom(i,l)*0.5**i for i in range(l,n+1)])\n",
    "print(P)"
   ]
  },
  {
   "cell_type": "markdown",
   "metadata": {},
   "source": [
    "MC implementation: just shoot and see. The conditional probability is computed as the ratio of number of $m$'s rolled if $l$ heads are observed, over the probability of observing $l$ heads (definition of conditional probability)."
   ]
  },
  {
   "cell_type": "code",
   "execution_count": 3,
   "metadata": {},
   "outputs": [
    {
     "name": "stdout",
     "output_type": "stream",
     "text": [
      "0.2513089005235602\n"
     ]
    }
   ],
   "source": [
    "tot = 0\n",
    "tot_l_heads = 0\n",
    "\n",
    "for i in range(0,100000) :\n",
    "    die_roll   = np.random.random_integers(1,n)\n",
    "    heads_seen = sum(np.random.random_integers(0,1,die_roll))\n",
    "    if heads_seen == l :\n",
    "        tot_l_heads += 1\n",
    "    if heads_seen == l and die_roll == m :\n",
    "        tot += 1\n",
    "\n",
    "print(tot/tot_l_heads)"
   ]
  }
 ],
 "metadata": {
  "kernelspec": {
   "display_name": "Python 3",
   "language": "python",
   "name": "python3"
  },
  "language_info": {
   "codemirror_mode": {
    "name": "ipython",
    "version": 3
   },
   "file_extension": ".py",
   "mimetype": "text/x-python",
   "name": "python",
   "nbconvert_exporter": "python",
   "pygments_lexer": "ipython3",
   "version": "3.7.4"
  }
 },
 "nbformat": 4,
 "nbformat_minor": 4
}
