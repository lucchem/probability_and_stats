{
 "cells": [
  {
   "cell_type": "markdown",
   "metadata": {},
   "source": [
    "# Frog jumps, or sum of uniforms\n",
    "\n",
    "Q: _Draw $n$ standard uniform rvs until their sum is larger than 1. Compute $\\mathbb E[n]$ and $\\mathbb V[n]$._\n",
    "\n",
    "Define $U_i$ the $i$-th draw. Call $S_n:=\\sum_i^n U_i$, and $\\tau = \\min \\{n:S_n > 1, n\\ge 2\\}$. Then:\n",
    "\n",
    "\\begin{equation*}\n",
    "\\mathbb P[\\tau=n] = \\mathbb P[\\tau > n-1] - \\mathbb P[\\tau > n] = \\mathbb P[S_{n-1}\\leq1]-\\mathbb P[S_n\\leq 1].\n",
    "\\end{equation*}\n",
    "\n",
    "But:\n",
    "\\begin{equation*}\n",
    "    \\mathbb P[S_n\\leq 1] = \\int_0^1\\text du_1\\int_0^1\\text du_2..\\int_0^1\\text du_n\\,\\mathbb 1_{\\sum_i^n u_i < 1}=\\int_0^1\\text du_1\\int_0^{u_1}\\text du_2..\\int_0^{u_{n-1}}\\text du_n=\\frac 1{n!},\n",
    "\\end{equation*}\n",
    "so\n",
    "\\begin{equation*}\n",
    "\\mathbb P[\\tau=n] = \\mathbb P[S_{n-1}\\leq1]-\\mathbb P[S_n\\leq 1] = \\frac{n-1}{n!}.\n",
    "\\end{equation*}\n",
    "Finally:\n",
    "\\begin{equation*}\n",
    "\\mathbb E[n] = \\sum_{i=2}^\\infty i\\frac{i-1}{i!} = \\sum_{i=2}^\\infty \\frac 1{(i-2)!} = \\sum_{i=0}^\\infty \\frac 1{i!} = e\\approx 2.7183.\n",
    "\\end{equation*}\n",
    "\\begin{equation*}\n",
    "\\mathbb V[n] = \\mathbb E[n^2]-\\mathbb E[n]^2=\\sum_{i=2}^\\infty i^2\\frac{i-1}{i!} - e^2=\\sum_{i=2}^\\infty \\frac{i}{(i-2)!} - e^2=\\sum_{i=0}^\\infty \\frac{i+2}{i!} - e^2 = \\sum_{i=0}^\\infty \\frac{i}{i!} + 2e - e^2 = \\sum_{i=1}^\\infty \\frac{1}{(i-1)!} + 2e - e^2 = 3e-e^2\\approx 0.7658.\n",
    "\\end{equation*}"
   ]
  },
  {
   "cell_type": "code",
   "execution_count": 1,
   "metadata": {},
   "outputs": [
    {
     "name": "stdout",
     "output_type": "stream",
     "text": [
      "2.717392 0.764480718336\n"
     ]
    }
   ],
   "source": [
    "import numpy as np\n",
    "\n",
    "trials = 1000000\n",
    "n = np.zeros(trials)\n",
    "\n",
    "for game in range(trials):\n",
    "    tot = 0\n",
    "    while tot < 1:\n",
    "        tot += np.random.uniform()\n",
    "        n[game] += 1\n",
    "        \n",
    "print(n.mean(),n.var())"
   ]
  }
 ],
 "metadata": {
  "kernelspec": {
   "display_name": "Python 3",
   "language": "python",
   "name": "python3"
  },
  "language_info": {
   "codemirror_mode": {
    "name": "ipython",
    "version": 3
   },
   "file_extension": ".py",
   "mimetype": "text/x-python",
   "name": "python",
   "nbconvert_exporter": "python",
   "pygments_lexer": "ipython3",
   "version": "3.8.5"
  }
 },
 "nbformat": 4,
 "nbformat_minor": 4
}
