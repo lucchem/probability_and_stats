{
 "cells": [
  {
   "cell_type": "code",
   "execution_count": 6,
   "metadata": {},
   "outputs": [],
   "source": [
    "import numpy as np"
   ]
  },
  {
   "cell_type": "markdown",
   "metadata": {},
   "source": [
    "# Probability of third head after two heads toss of a maybe fair coin\n",
    "\n",
    "Asked during interview.\n",
    "\n",
    "Take three coins, one with two heads, and two fair. Pick one randomly, flip it twice and get two heads. What is the probability that the next toss gives heads?\n",
    "\n",
    "Call $2H$ the event of tossing two heads and $3H$ the event of getting the third one, $F$ and $R$ the events of picking a fair coin or the rigged one, respectively. Determine $\\mathbb P(3H|2H)$.\n",
    "\n",
    "$$\\mathbb P(3H|2H) = \\frac{\\mathbb P(3H\\cap 2H)}{\\mathbb P(2H)}=\\frac{\\mathbb P(3H\\cap 2H \\cap F)+\\mathbb P(3H\\cap 2H \\cap R)}{\\mathbb P(2H|F)\\mathbb P(F)+\\mathbb P(2H|R)\\mathbb P(R)}.$$\n",
    "Take $\\mathbb P(F)=\\frac23$, $\\mathbb P(R)=\\frac13$, $\\mathbb P(2H|F)=\\frac14$, $\\mathbb P(2H|R)=1$,\n",
    "$$\\mathbb P(3H\\cap 2H \\cap F)=\\mathbb P(3H \\cap F) = \\mathbb P(3H | F)\\mathbb P(F)= \\frac18\\frac 23,$$\n",
    "$$\\mathbb P(3H\\cap 2H \\cap R)=\\mathbb P(3H | R) P(R)= \\frac13,$$\n",
    "substitute:\n",
    "$$\\mathbb P(3H|2H) = \\frac{\\frac1{12}+\\frac13}{\\frac16+\\frac13}=\\frac56.$$\n",
    "\n",
    "Monte Carlo way:"
   ]
  },
  {
   "cell_type": "code",
   "execution_count": 16,
   "metadata": {},
   "outputs": [
    {
     "name": "stdout",
     "output_type": "stream",
     "text": [
      "     10 games: theoretical value 0.83333 vs numerical value 0.66667\n",
      "    100 games: theoretical value 0.83333 vs numerical value 0.80357\n",
      "   1000 games: theoretical value 0.83333 vs numerical value 0.84278\n",
      "  10000 games: theoretical value 0.83333 vs numerical value 0.83969\n",
      " 100000 games: theoretical value 0.83333 vs numerical value 0.83475\n",
      "1000000 games: theoretical value 0.83333 vs numerical value 0.83342\n"
     ]
    }
   ],
   "source": [
    "hh  = 0\n",
    "hhh = 0\n",
    "\n",
    "for n in range(1,7):\n",
    "    games = 10**n\n",
    "    for game in range(1,games):\n",
    "        if np.random.uniform() <= 2/3:\n",
    "            p = 0.5\n",
    "        else:\n",
    "            p = 1\n",
    "        if np.random.uniform() <= p:\n",
    "                if np.random.uniform() <= p:\n",
    "                    hh += 1\n",
    "                    if np.random.uniform() <= p:\n",
    "                        hhh += 1\n",
    "    print('{:7d} games: theoretical value {:.5f} vs numerical value {:.5f}'.format(games,5/6,hhh/hh))"
   ]
  }
 ],
 "metadata": {
  "kernelspec": {
   "display_name": "Python 3",
   "language": "python",
   "name": "python3"
  },
  "language_info": {
   "codemirror_mode": {
    "name": "ipython",
    "version": 3
   },
   "file_extension": ".py",
   "mimetype": "text/x-python",
   "name": "python",
   "nbconvert_exporter": "python",
   "pygments_lexer": "ipython3",
   "version": "3.7.4"
  }
 },
 "nbformat": 4,
 "nbformat_minor": 4
}
