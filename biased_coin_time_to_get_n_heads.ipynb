{
 "cells": [
  {
   "cell_type": "code",
   "execution_count": 1,
   "metadata": {},
   "outputs": [],
   "source": [
    "import random"
   ]
  },
  {
   "cell_type": "markdown",
   "metadata": {},
   "source": [
    "# Time to gt $n$ heads in a row flipping a biased coin\n",
    "\n",
    "Solvable as a Markov chain, with a state T that with probability $p$ goes in H and with $1-p$ stays in T, and a state H that with probability $p$ goes in HH otherwise turns back in T, and so on .."
   ]
  },
  {
   "cell_type": "code",
   "execution_count": 2,
   "metadata": {},
   "outputs": [],
   "source": [
    "def game_mc(p,n,games):\n",
    "    game = 0\n",
    "    for j in range(1,games):\n",
    "        heads = 0\n",
    "        turn  = 0\n",
    "        while heads != n:\n",
    "            turn += 1\n",
    "            heads = heads + 1 if random.uniform(0,1) < p else 0\n",
    "            if heads == n:\n",
    "                game += turn\n",
    "    return game/games"
   ]
  },
  {
   "cell_type": "code",
   "execution_count": 3,
   "metadata": {},
   "outputs": [
    {
     "name": "stdout",
     "output_type": "stream",
     "text": [
      "theoretical value via Markov chain (2 heads in a row): (1+p)/p^2 = 8.7500\n",
      "10^1 games: 12.7000\n",
      "10^2 games: 8.9600\n",
      "10^3 games: 8.9670\n",
      "10^4 games: 8.7747\n",
      "10^5 games: 8.7209\n",
      "10^6 games: 8.7513\n"
     ]
    }
   ],
   "source": [
    "p = 0.4\n",
    "\n",
    "print(\"theoretical value via Markov chain (2 heads in a row): (1+p)/p^2 = {0:6.4f}\".format((1+p)/p**2))\n",
    "for i in range(1,7):\n",
    "    print(\"10^{0:d} games: {1:6.4f}\".format(i,game_mc(p,2,10**i)))"
   ]
  }
 ],
 "metadata": {
  "kernelspec": {
   "display_name": "Python 3",
   "language": "python",
   "name": "python3"
  },
  "language_info": {
   "codemirror_mode": {
    "name": "ipython",
    "version": 3
   },
   "file_extension": ".py",
   "mimetype": "text/x-python",
   "name": "python",
   "nbconvert_exporter": "python",
   "pygments_lexer": "ipython3",
   "version": "3.7.4"
  }
 },
 "nbformat": 4,
 "nbformat_minor": 2
}
