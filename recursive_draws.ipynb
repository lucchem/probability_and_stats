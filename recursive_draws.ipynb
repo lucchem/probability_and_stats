{
 "cells": [
  {
   "cell_type": "code",
   "execution_count": 1,
   "metadata": {},
   "outputs": [],
   "source": [
    "import numpy as np"
   ]
  },
  {
   "cell_type": "markdown",
   "metadata": {},
   "source": [
    "## Recursive draws, expected time to end game\n",
    "\n",
    "Interview question: _Let $R(n)$ be a random draw of integers between $0$ and $n − 1$ (inclusive). I repeatedly apply $R$,\n",
    "starting at $10^{100}$. What’s the expected number of repeated applications until I get zero?_ \\\n",
    "This actually reads: i) draw from $0$ to $n-1$, call $k$, ii) draw from $0$ to $k-1$, call it $j$ ... how long before you reach 0 in average?\n",
    "\n",
    "Idea: call $e_i$ the expected number of draws starting with $n=i$, that is, starting with a draw from $\\{0,..,i-1\\}$. Clearly, $e_0=0$, $e_1=1$; call $p_i$ the probability of drawing $i$, $p_i=j^{-1}$ when computing $e_j$, and from total expectation law: \n",
    "$$e_j=\\sum_{i=0}^{j-1}p_i(1+e_i)=\\sum_{i=0}^{j-1}\\frac 1j+\\sum_{i=0}^{j-1}\\frac 1j e_i=1+\\frac 1j\\sum_{i=0}^{j-1}e_i=1+\\frac 1j\\sum_{i=0}^{j-2}e_i+\\frac{e_{j-1}}j=1+\\frac 1j\\left((j-1)e_{j-1}-(j-1)\\right)+\\frac{e_{j-1}}j=e_{j-1}+\\frac 1j=\\sum_{i=1}^j \\frac 1i  \\qquad j > 0,$$\n",
    "that is the $j$-th harmonic number.\n",
    "\n",
    "$e_j$ may also be the expected time to absorption of the underlying Markov chain, with absorbing state 0."
   ]
  },
  {
   "cell_type": "code",
   "execution_count": 2,
   "metadata": {},
   "outputs": [],
   "source": [
    "def exact_sol(n):\n",
    "    e_j = [ 0, 1 ]\n",
    "    for j in range(2,n+1):\n",
    "        e_j.append( 1+sum(e_j)/j )\n",
    "    return e_j[n]"
   ]
  },
  {
   "cell_type": "code",
   "execution_count": 3,
   "metadata": {},
   "outputs": [
    {
     "name": "stdout",
     "output_type": "stream",
     "text": [
      "expected  2.92379 2.9289682539682547\n"
     ]
    }
   ],
   "source": [
    "n = 10\n",
    "games = 100000\n",
    "\n",
    "avg_draws = 0\n",
    "for game in range(games):\n",
    "    draws = 0\n",
    "    game_n = n\n",
    "    while True:\n",
    "        draws += 1\n",
    "        game_n = np.random.random_integers(0,game_n-1)\n",
    "        if game_n == 0:\n",
    "            break\n",
    "    avg_draws += draws\n",
    "    \n",
    "avg_draws /= games    \n",
    "        \n",
    "print('expected ', avg_draws, exact_sol(n))\n",
    "        \n",
    "        "
   ]
  }
 ],
 "metadata": {
  "kernelspec": {
   "display_name": "Python 3",
   "language": "python",
   "name": "python3"
  },
  "language_info": {
   "codemirror_mode": {
    "name": "ipython",
    "version": 3
   },
   "file_extension": ".py",
   "mimetype": "text/x-python",
   "name": "python",
   "nbconvert_exporter": "python",
   "pygments_lexer": "ipython3",
   "version": "3.7.4"
  }
 },
 "nbformat": 4,
 "nbformat_minor": 4
}
