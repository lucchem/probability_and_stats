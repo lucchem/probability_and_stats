{
 "cells": [
  {
   "cell_type": "code",
   "execution_count": 17,
   "metadata": {},
   "outputs": [],
   "source": [
    "import numpy as np"
   ]
  },
  {
   "cell_type": "code",
   "execution_count": 75,
   "metadata": {},
   "outputs": [
    {
     "name": "stdout",
     "output_type": "stream",
     "text": [
      "0.9659\n"
     ]
    }
   ],
   "source": [
    "games = 10000\n",
    "success = 0\n",
    "\n",
    "for i in range(games):\n",
    "    candies = np.array([ 10, 20, 30 ])\n",
    "    while candies[0] > 0:\n",
    "        take = np.random.random_integers(0,2)\n",
    "        if candies[take] > 0:\n",
    "            candies[take] -= 1\n",
    "    if np.array_equal(candies > 0, [ False, True, True ]):\n",
    "        success += 1\n",
    "        \n",
    "print(success/games)"
   ]
  }
 ],
 "metadata": {
  "kernelspec": {
   "display_name": "Python 3",
   "language": "python",
   "name": "python3"
  },
  "language_info": {
   "codemirror_mode": {
    "name": "ipython",
    "version": 3
   },
   "file_extension": ".py",
   "mimetype": "text/x-python",
   "name": "python",
   "nbconvert_exporter": "python",
   "pygments_lexer": "ipython3",
   "version": "3.7.4"
  }
 },
 "nbformat": 4,
 "nbformat_minor": 4
}
