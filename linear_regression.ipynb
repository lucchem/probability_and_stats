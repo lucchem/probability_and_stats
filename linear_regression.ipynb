{
 "cells": [
  {
   "cell_type": "code",
   "execution_count": 1,
   "metadata": {},
   "outputs": [],
   "source": [
    "import numpy as np\n",
    "import sklearn.preprocessing as skl_pp\n",
    "import sklearn.linear_model as skl_lm\n",
    "import sklearn.model_selection as skl_ms\n",
    "\n",
    "import matplotlib.pyplot as plt"
   ]
  },
  {
   "cell_type": "markdown",
   "metadata": {},
   "source": [
    "# Linear Regression\n",
    "\n",
    "I define $X=\\mathcal E(\\lambda_x)\\cdot(2\\mathcal B(0.5)-1)$, where the exponential part defines the absolute value of the variable, while the Bernoulli part defines its sign. Numpy apparently has no Bernoullian generator, so I use a Binomial with $n=1$.\n",
    "\n",
    "I establish a linear relation adding a $r=\\mathcal N(\\mu_{res},\\sigma_{res}^2)$, so $y = aX+r$. Indeed:\n",
    "$$\\mathbb E[y]=a\\mathbb E[x]+\\mathbb E[r]=a\\cdot 0+1=1$$\n",
    "$$\\mathbb V[y]=\\text{($X$ and $r$ indep.)}=\n",
    "a^2\\mathbb V[\\mathcal E(\\lambda_x)\\cdot(2\\mathcal B(0.5)-1)]+\\mathbb V[r]=\\\\\n",
    "a^2\\left(\\mathbb V[\\mathcal E(\\lambda_x)]\\mathbb V[2\\mathcal B(0.5)-1]+\\mathbb V[\\mathcal E(\\lambda_x)]\\mathbb E[2\\mathcal B(0.5)-1]^2+\\mathbb V[2\\mathcal B(0.5)-1]\\mathbb E[\\mathcal E(\\lambda_x)]^2\\right)+\\sigma_{res}^2=\\\\\n",
    "a^2\\left(\\lambda_x^{-2}+\\lambda^{-2}0+\\lambda_x^{-2}\\right)+\\sigma_{res}^2=\n",
    "2a^2\\lambda_x^{-2}+\\sigma_{res}^2=\\frac121.5^2+4=5.125$$\n",
    "\n",
    "Normalised data are obtained this way:\n",
    "$$\\frac{y-\\mu_y}{\\sigma_y}=\\frac{a\\sigma_X}{\\sigma_y}\\frac{X-\\mu_x}{\\sigma_X}+\\frac{a\\mu_x-\\mu_y+r}{\\sigma_y}$$\n",
    "Note: $$\\frac{a\\sigma_X}{\\sigma_y}=\\frac{1.5}{\\sqrt{2} \\sqrt{5.125}}\\approx0.468$$\n",
    "Indeed, OLS regression should be able to capture this coefficient perfectly. Recall that $X$ and the residues are independent:\n",
    "$$\\min||y-X\\beta||^2\\Rightarrow \\beta=\\frac{\\sum_i y_ix_i}{\\sum_i x_i^2}=\\frac{\\sum_i (ax_i+r_i)x_i}{\\sum_i x_i^2}=a+\\frac{\\sum_i r_ix_i}{\\sum_i x_i^2}=a$$\n",
    "\n",
    "In the following, $X\\in \\mathbb R^{N\\times N}, y\\in\\mathbb R^N$."
   ]
  },
  {
   "cell_type": "code",
   "execution_count": 2,
   "metadata": {},
   "outputs": [
    {
     "name": "stdout",
     "output_type": "stream",
     "text": [
      "0.4650725806823767\n"
     ]
    },
    {
     "data": {
      "image/png": "[encoded data removed]",
      "text/plain": [
       "<Figure size 432x288 with 1 Axes>"
      ]
     },
     "metadata": {
      "needs_background": "light"
     },
     "output_type": "display_data"
    }
   ],
   "source": [
    "n_sample = 100000\n",
    "lambda_x = 2\n",
    "mu_res = 1\n",
    "s2_res = 4\n",
    "regression_param = 1.5\n",
    "\n",
    "sign_x = 2*np.random.binomial(1, 0.5, n_sample)-1\n",
    "X = (np.random.exponential(scale = 1/lambda_x, size = n_sample)*sign_x)\n",
    "y = regression_param*X + np.random.normal(loc = mu_res, scale = np.sqrt(s2_res), size = n_sample)\n",
    "\n",
    "scaler = skl_pp.StandardScaler()\n",
    "X = scaler.fit_transform(X.reshape(-1, 1))\n",
    "y = scaler.fit_transform(y.reshape(-1, 1))\n",
    "\n",
    "model = skl_lm.LinearRegression().fit(X,y)\n",
    "print(model.coef_[0,0])\n",
    "\n",
    "plt.scatter(X,y)\n",
    "plt.plot(np.arange(-8,8,0.1),np.arange(-8,8,0.1)*0.468,color = 'red')\n",
    "plt.plot(np.arange(-8,8,0.1),np.arange(-8,8,0.1)*model.coef_[0],color = 'green')\n",
    "plt.show()"
   ]
  },
  {
   "cell_type": "markdown",
   "metadata": {},
   "source": [
    "Now, we act as if our information is not perfect. We know that $y$ depends on $X$, but we think it depends on something else also. In example, a standard normal. The model can see the dependence on $X$, and just ignores the normal variables.\n",
    "\n",
    "To understand this, take in consideration again the model $y=aX+r$, and suppose $y\\sim \\beta_1 X+ \\beta_2 W$, where $X$ and $W$ are independent and standardised.\n",
    "Being a multidimensional OLS regression, we know:\n",
    "$$\\beta = ( [X\\, W]^T[X\\, W] )^{-1}[X\\, W]^T y\\Rightarrow \\beta_1 = \\frac{\\sum_i x_i y_i}{\\sum_i x_i^2}=a,\\quad \\beta_2 = \\frac{\\sum_i w_i y_i}{\\sum_i w_i^2}=a\\frac{\\sum_i x_i w_i}{\\sum_i w_i^2}\\approx0.$$\n",
    "\n",
    "We start from a simpler model with respect to the previous case: $y=0.5X+r$, $r\\sim \\mathcal N(0,1)$, $X\\sim \\mathcal N(1,4)$."
   ]
  },
  {
   "cell_type": "code",
   "execution_count": 3,
   "metadata": {},
   "outputs": [
    {
     "name": "stdout",
     "output_type": "stream",
     "text": [
      "[0.50047857 0.00161735]\n"
     ]
    }
   ],
   "source": [
    "n_sample = 10000\n",
    "X = np.random.normal(loc = 1, scale = 4, size = n_sample).reshape(-1, 1)\n",
    "y = 0.5*X[:,0] + np.random.normal(size = n_sample)\n",
    "\n",
    "Y = np.array([ [X[i,0], np.random.normal()] for i in range(len(X)) ])\n",
    "\n",
    "model = skl_lm.LinearRegression().fit(Y,y)\n",
    "print(model.coef_)"
   ]
  },
  {
   "cell_type": "markdown",
   "metadata": {},
   "source": [
    "Insert a direct dependence on $y$. The model captures it entirely and just drops $X$."
   ]
  },
  {
   "cell_type": "code",
   "execution_count": 4,
   "metadata": {},
   "outputs": [
    {
     "name": "stdout",
     "output_type": "stream",
     "text": [
      "[-5.03165181e-16  1.00000000e+00]\n"
     ]
    }
   ],
   "source": [
    "Y = np.array([ [X[i,0], y[i]] for i in range(len(X)) ])\n",
    "\n",
    "model = skl_lm.LinearRegression().fit(Y,y)\n",
    "print(model.coef_)"
   ]
  },
  {
   "cell_type": "markdown",
   "metadata": {},
   "source": [
    "Insert a partial dependence on $y$. The model takes again in consideration $X$ and reduces the coefficient of the artficial feature."
   ]
  },
  {
   "cell_type": "code",
   "execution_count": 5,
   "metadata": {},
   "outputs": [
    {
     "name": "stdout",
     "output_type": "stream",
     "text": [
      "[0.355641   0.48784141]\n"
     ]
    }
   ],
   "source": [
    "Y = np.array([ [X[i,0], y[i] if y[i] > 0 else np.random.normal() ] for i in range(len(X)) ])\n",
    "\n",
    "model = skl_lm.LinearRegression().fit(Y,y)\n",
    "print(model.coef_)"
   ]
  },
  {
   "cell_type": "markdown",
   "metadata": {},
   "source": [
    "If the second feature is a slightly disturbed $y$, the regressor trusts it more than $X$. This does not change running it multiple times."
   ]
  },
  {
   "cell_type": "code",
   "execution_count": 6,
   "metadata": {},
   "outputs": [
    {
     "name": "stdout",
     "output_type": "stream",
     "text": [
      "[3.36019298e-04 9.99188993e-01]\n"
     ]
    }
   ],
   "source": [
    "Y = np.array([ [X[i,0], y[i]*np.random.normal(loc = 1, scale = 0.01) ] for i in range(len(X)) ])\n",
    "\n",
    "model = skl_lm.LinearRegression().fit(Y,y)\n",
    "print(model.coef_)"
   ]
  },
  {
   "cell_type": "markdown",
   "metadata": {},
   "source": [
    "Surprisingly, if the second feature is a disturbed first feature, the regressor may still favour it over the plain feature. Note that the behaviour is not consistent. Running it many times may give totally different results. Indeed, the sum of the coefficients is equal to the expected value."
   ]
  },
  {
   "cell_type": "code",
   "execution_count": 7,
   "metadata": {},
   "outputs": [
    {
     "name": "stdout",
     "output_type": "stream",
     "text": [
      "[ 0.61933249 -0.11886639]\n"
     ]
    }
   ],
   "source": [
    "Y = np.array([ [X[i,0], X[i,0]*np.random.normal(loc = 1, scale = 0.01) ] for i in range(len(X)) ])\n",
    "\n",
    "model = skl_lm.LinearRegression().fit(Y,y)\n",
    "print(model.coef_)"
   ]
  },
  {
   "cell_type": "markdown",
   "metadata": {},
   "source": [
    "Think again of $Y = [ X\\, W]$. Let's suppose $W=bX$, then \n",
    "$$[X\\,W]^T[X\\,W]=\\left[\\begin{matrix} 1& b \\\\ b& b^2\\end{matrix}\\right]$$\n",
    "that is not invertible.\n",
    "\n",
    "``LinearRegression().fit()`` can still do something. Possible explanation: the solver is based on scipy that is based on LAPACK, that uses SVD.\n",
    "\n",
    "Check https://www2.math.uconn.edu/~leykekhman/courses/MATH3795/Lectures/Lecture_9_Linear_least_squares_SVD.pdf slide 11 for a SVD solution of OLS. The sum of the coefficients is still equal to the expected coefficient .."
   ]
  },
  {
   "cell_type": "code",
   "execution_count": 8,
   "metadata": {},
   "outputs": [
    {
     "name": "stdout",
     "output_type": "stream",
     "text": [
      "[0.47058824 0.11764706] 0.5000000000000006\n"
     ]
    }
   ],
   "source": [
    "Y = np.array([ [X[i,0], 0.25*X[i,0]] for i in range(len(X)) ])\n",
    "\n",
    "y = 0.5*X[:,0]\n",
    "\n",
    "model = skl_lm.LinearRegression().fit(Y,y)\n",
    "print(model.coef_,0.25*model.coef_[1]+model.coef_[0])"
   ]
  },
  {
   "cell_type": "code",
   "execution_count": 9,
   "metadata": {},
   "outputs": [
    {
     "data": {
      "text/plain": [
       "0.0"
      ]
     },
     "execution_count": 9,
     "metadata": {},
     "output_type": "execute_result"
    }
   ],
   "source": [
    "np.linalg.det(Y.transpose() @ Y)"
   ]
  },
  {
   "cell_type": "code",
   "execution_count": 10,
   "metadata": {},
   "outputs": [
    {
     "name": "stdout",
     "output_type": "stream",
     "text": [
      "sanity check:  True\n",
      "OLS coefficients via SVD:  [0.39325958 0.42696169] 0.4999999999999991\n"
     ]
    }
   ],
   "source": [
    "U, S, V = np.linalg.svd(Y,full_matrices=False)\n",
    "model_coeffs = U.transpose() @ y / S @ V\n",
    "print('sanity check: ',np.any(U @ np.diag(S) @ V - Y < 1e-12))\n",
    "print('OLS coefficients via SVD: ',model_coeffs,model_coeffs[0]+0.25*model_coeffs[1])"
   ]
  },
  {
   "cell_type": "markdown",
   "metadata": {},
   "source": [
    "Experiment: define $y=1.4X$, we heuristically (but wrongly) assume $y\\sim 0.4 X$. Residuals will be equal to $X$, so they give us a hint of the mistake."
   ]
  },
  {
   "cell_type": "code",
   "execution_count": 11,
   "metadata": {},
   "outputs": [
    {
     "data": {
      "image/png": "[encoded data removed]",
      "text/plain": [
       "<Figure size 432x288 with 1 Axes>"
      ]
     },
     "metadata": {
      "needs_background": "light"
     },
     "output_type": "display_data"
    }
   ],
   "source": [
    "y = 1.4*X[:,0]\n",
    "\n",
    "y_hat = 0.4*X[:,0]\n",
    "\n",
    "plt.scatter(X,y-y_hat,label = 'residuals')\n",
    "plt.plot(X,X,color = 'red', label = 'y=x')\n",
    "plt.legend()\n",
    "plt.show()"
   ]
  },
  {
   "cell_type": "markdown",
   "metadata": {},
   "source": [
    "Complicate things: define $y=X+\\mathcal N(0,1)$, but assume $y=0.5X$. Should observe trend in residuals."
   ]
  },
  {
   "cell_type": "code",
   "execution_count": 12,
   "metadata": {},
   "outputs": [
    {
     "data": {
      "image/png": "[encoded data removed]",
      "text/plain": [
       "<Figure size 432x288 with 1 Axes>"
      ]
     },
     "metadata": {
      "needs_background": "light"
     },
     "output_type": "display_data"
    }
   ],
   "source": [
    "y = X[:,0]+np.random.normal(size=len(X))\n",
    "\n",
    "y_hat = 0.5*X[:,0]\n",
    "\n",
    "plt.scatter(X,y-y_hat,label = 'residuals')\n",
    "plt.plot(X,0.5*X,color = 'red', label = 'y=0.5x')\n",
    "plt.legend()\n",
    "plt.show()"
   ]
  },
  {
   "cell_type": "markdown",
   "metadata": {},
   "source": [
    "# Adding Gaussian noise to the features\n",
    "\n",
    "Generate a Gauss-distributed feature $\\mathbf X\\in\\mathbb R^{n\\times b}$, build a linear model, and check the estimated variance of the residuals:\n",
    "$$ \\hat\\sigma^2 = \\frac{||\\mathbf r||^2}{n-p}. $$\n",
    "\n",
    "The confidence interval over the coefficient of the regression is proportional to the standard error of the coefficient:\n",
    "\n",
    "$$ C = (\\mathbf X^T\\mathbf X)^{-1},\\quad SE_{b,j}=\\sqrt{\\hat\\sigma^2 C_{jj}^{-1}} $$\n",
    "\n",
    "A quick check confirms that $SE_{b,j}$ is inversely proportional to the variance of the features, as expected from its definition.\n",
    "\n",
    "Adding a random noise to the features with increasing standard deviation increases the standard error, worsening the confidence intervals."
   ]
  },
  {
   "cell_type": "code",
   "execution_count": 13,
   "metadata": {},
   "outputs": [
    {
     "name": "stdout",
     "output_type": "stream",
     "text": [
      "resampling with std deviation =    0: residuals sdev =   0.043 vs 0.02 - coefficients SE =  0.00043\n",
      "resampling with std deviation =    1: residuals sdev =   1.335 vs 0.02 - coefficients SE =  0.01335\n",
      "resampling with std deviation =   10: residuals sdev =  70.511 vs 0.02 - coefficients SE =  0.70510\n",
      "resampling with std deviation =  100: residuals sdev = 226.992 vs 0.02 - coefficients SE =  2.26987\n",
      "resampling with std deviation = 1000: residuals sdev = 445.573 vs 0.02 - coefficients SE =  4.45564\n"
     ]
    }
   ],
   "source": [
    "n_sample = 10000\n",
    "X = np.random.normal(loc = 1, scale = 0.001, size = n_sample).reshape(-1, 1)\n",
    "\n",
    "for sigma_resample in [0, 1, 10, 100, 1000]:\n",
    "    y = 0.3*(X[:,0]+np.random.normal(scale = sigma_resample, size=len(X)))+np.random.normal(scale = 0.02, size=len(X))\n",
    "\n",
    "    model = skl_lm.LinearRegression().fit(X,y)\n",
    "\n",
    "    residuals = y-model.coef_[0]*X[:,0]\n",
    "\n",
    "    sigma_hat = np.sqrt(   np.linalg.norm(residuals)**2   /   ( len(X)-len(X[0]) )   )\n",
    "\n",
    "    SE_b = np.sqrt(sigma_hat**2/(X.transpose() @ X)[0,0])\n",
    "\n",
    "    print('resampling with std deviation = {:4d}: residuals sdev = {:7.3f} vs {} - coefficients SE = {:8.5f}'.format(sigma_resample,sigma_hat,0.02,SE_b))"
   ]
  }
 ],
 "metadata": {
  "kernelspec": {
   "display_name": "Python 3",
   "language": "python",
   "name": "python3"
  },
  "language_info": {
   "codemirror_mode": {
    "name": "ipython",
    "version": 3
   },
   "file_extension": ".py",
   "mimetype": "text/x-python",
   "name": "python",
   "nbconvert_exporter": "python",
   "pygments_lexer": "ipython3",
   "version": "3.7.4"
  }
 },
 "nbformat": 4,
 "nbformat_minor": 4
}
