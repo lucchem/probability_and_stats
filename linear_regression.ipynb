{
 "cells": [
  {
   "cell_type": "code",
   "execution_count": 1,
   "metadata": {},
   "outputs": [],
   "source": [
    "import numpy as np\n",
    "import sklearn.preprocessing as skl_pp\n",
    "import sklearn.linear_model as skl_lm\n",
    "import matplotlib.pyplot as plt"
   ]
  },
  {
   "cell_type": "markdown",
   "metadata": {},
   "source": [
    "# Linear Regression\n",
    "\n",
    "I define $X=\\mathcal E(\\lambda_x)\\cdot(2\\mathcal B(0.5)-1)$, where the exponential part defines the absolute value of the variable, while the Bernoulli part defines its sign. Numpy apparently has no Bernoullian generator, so I use a Binomial with $n=1$.\n",
    "\n",
    "I establish a linear relation adding a $r=\\mathcal N(\\mu_{res},\\sigma_{res}^2)$, so $y = aX+r$. Indeed:\n",
    "$$\\mathbb E[y]=a\\mathbb E[x]+\\mathbb E[r]=a\\cdot 0+1=1$$\n",
    "$$\\mathbb V[y]=\\text{($X$ and $r$ indep.)}=\n",
    "a^2\\mathbb V[\\mathcal E(\\lambda_x)\\cdot(2\\mathcal B(0.5)-1)]+\\mathbb V[r]=\\\\\n",
    "a^2\\left(\\mathbb V[\\mathcal E(\\lambda_x)]\\mathbb V[2\\mathcal B(0.5)-1]+\\mathbb V[\\mathcal E(\\lambda_x)]\\mathbb E[2\\mathcal B(0.5)-1]^2+\\mathbb V[2\\mathcal B(0.5)-1]\\mathbb E[\\mathcal E(\\lambda_x)]^2\\right)+\\sigma_{res}^2=\\\\\n",
    "a^2\\left(\\lambda_x^{-2}+\\lambda^{-2}0+\\lambda_x^{-2}\\right)+\\sigma_{res}^2=\n",
    "2a^2\\lambda_x^{-2}+\\sigma_{res}^2=\\frac121.5^2+4=5.125$$\n",
    "\n",
    "Normalised data are obtained this way:\n",
    "$$\\frac{y-\\mu_y}{\\sigma_y}=\\frac{a\\sigma_X}{\\sigma_y}\\frac{X-\\mu_x}{\\sigma_X}+\\frac{a\\mu_x-\\mu_y+r}{\\sigma_y}$$\n",
    "Note: $$\\frac{a\\sigma_X}{\\sigma_y}=\\frac{1.5}{\\sqrt{2} \\sqrt{5.125}}\\approx0.468$$\n",
    "Indeed, OLS regression should be able to capture this coefficient perfectly. Recall that $X$ and the residues are independent:\n",
    "$$\\min||y-X\\beta||^2\\Rightarrow \\beta=\\frac{\\sum_i y_ix_i}{\\sum_i x_i^2}=\\frac{\\sum_i (ax_i+r_i)x_i}{\\sum_i x_i^2}=a+\\frac{\\sum_i r_ix_i}{\\sum_i x_i^2}=a$$\n",
    "\n",
    "In the following, $X\\in \\mathbb R^{N\\times N}, y\\in\\mathbb R^N$."
   ]
  },
  {
   "cell_type": "code",
   "execution_count": 2,
   "metadata": {},
   "outputs": [
    {
     "name": "stdout",
     "output_type": "stream",
     "text": [
      "0.4711498230534288\n"
     ]
    },
    {
     "data": {
      "image/png": "[encoded data removed]",
      "text/plain": [
       "<Figure size 432x288 with 1 Axes>"
      ]
     },
     "metadata": {
      "needs_background": "light"
     },
     "output_type": "display_data"
    }
   ],
   "source": [
    "n_sample = 100000\n",
    "lambda_x = 2\n",
    "mu_res = 1\n",
    "s2_res = 4\n",
    "regression_param = 1.5\n",
    "\n",
    "sign_x = 2*np.random.binomial(1, 0.5, n_sample)-1\n",
    "X = (np.random.exponential(scale = 1/lambda_x, size = n_sample)*sign_x)\n",
    "y = regression_param*X + np.random.normal(loc = mu_res, scale = np.sqrt(s2_res), size = n_sample)\n",
    "\n",
    "scaler = skl_pp.StandardScaler()\n",
    "X = scaler.fit_transform(X.reshape(-1, 1))\n",
    "y = scaler.fit_transform(y.reshape(-1, 1))\n",
    "\n",
    "model = skl_lm.LinearRegression().fit(X,y)\n",
    "print(model.coef_[0,0])\n",
    "\n",
    "plt.scatter(X,y)\n",
    "plt.plot(np.arange(-8,8,0.1),np.arange(-8,8,0.1)*0.468,color = 'red')\n",
    "plt.plot(np.arange(-8,8,0.1),np.arange(-8,8,0.1)*model.coef_[0],color = 'green')\n",
    "plt.show()"
   ]
  },
  {
   "cell_type": "markdown",
   "metadata": {},
   "source": [
    "Now, we act as if our information is not perfect. We know that $y$ depends on $X$, but we think it depends on something else also. In example, a standard normal. The model can see the dependence on $X$, and just ignores the normal variables.\n",
    "\n",
    "To understand this, take in consideration again the model $y=aX+r$, and suppose $y\\sim \\beta_1 X+ \\beta_2 W$, where $X$ and $W$ are independent and standardised.\n",
    "Being a multidimensional OLS regression, we know:\n",
    "$$\\beta = ( [X\\, W]^T[X\\, W] )^{-1}[X\\, W]^T y\\Rightarrow \\beta_1 = \\frac{\\sum_i x_i y_i}{\\sum_i x_i^2}=a,\\quad \\beta_2 = \\frac{\\sum_i w_i y_i}{\\sum_i w_i^2}=a\\frac{\\sum_i x_i w_i}{\\sum_i w_i^2}\\approx0.$$"
   ]
  },
  {
   "cell_type": "code",
   "execution_count": 3,
   "metadata": {},
   "outputs": [
    {
     "name": "stdout",
     "output_type": "stream",
     "text": [
      "[[ 0.47114947 -0.00366835]]\n"
     ]
    }
   ],
   "source": [
    "Y = np.array([ [X[i,0], np.random.normal()] for i in range(len(X)) ])\n",
    "\n",
    "model = skl_lm.LinearRegression().fit(Y,y)\n",
    "print(model.coef_)"
   ]
  },
  {
   "cell_type": "markdown",
   "metadata": {},
   "source": [
    "Insert a direct dependence on $y$. The model captures it entirely and just drops $X$."
   ]
  },
  {
   "cell_type": "code",
   "execution_count": 4,
   "metadata": {},
   "outputs": [
    {
     "name": "stdout",
     "output_type": "stream",
     "text": [
      "[[-1.43803739e-15  1.00000000e+00]]\n"
     ]
    }
   ],
   "source": [
    "Y = np.array([ [X[i,0], y[i,0]] for i in range(len(X)) ])\n",
    "\n",
    "model = skl_lm.LinearRegression().fit(Y,y)\n",
    "print(model.coef_)"
   ]
  },
  {
   "cell_type": "markdown",
   "metadata": {},
   "source": [
    "Insert a partial dependence on $y$. The model takes again in consideration $X$ and reduces the coefficient of the artficial feature."
   ]
  },
  {
   "cell_type": "code",
   "execution_count": 5,
   "metadata": {},
   "outputs": [
    {
     "name": "stdout",
     "output_type": "stream",
     "text": [
      "[[0.35762871 0.49466185]]\n"
     ]
    }
   ],
   "source": [
    "Y = np.array([ [X[i,0], y[i] if y[i] > 0 else np.random.normal() ] for i in range(len(X)) ])\n",
    "\n",
    "model = skl_lm.LinearRegression().fit(Y,y)\n",
    "print(model.coef_)"
   ]
  },
  {
   "cell_type": "markdown",
   "metadata": {},
   "source": [
    "Think again of $Y = [ X\\, W]$. Let's suppose $W=bX$, then \n",
    "$$[X\\,W]^T[X\\,W]=\\left[\\begin{matrix} 1& b \\\\ b& b^2\\end{matrix}\\right]$$\n",
    "that is not invertible.\n",
    "\n",
    "``LinearRegression().fit()`` can still do something. Possible explanation: the solver is based on scipy that is based on LAPACK, that uses SVD.\n",
    "\n",
    "Check https://www2.math.uconn.edu/~leykekhman/courses/MATH3795/Lectures/Lecture_9_Linear_least_squares_SVD.pdf slide 11 for a SVD solution of OLS. The sum of the coefficients is still equal to the expected coefficient .."
   ]
  },
  {
   "cell_type": "code",
   "execution_count": 6,
   "metadata": {},
   "outputs": [
    {
     "name": "stdout",
     "output_type": "stream",
     "text": [
      "[0.65882353 0.16470588] 0.7000000000000018\n"
     ]
    }
   ],
   "source": [
    "Y = np.array([ [X[i,0], 0.25*X[i,0]] for i in range(len(X)) ])\n",
    "\n",
    "y = 0.7*Y[:,0]\n",
    "\n",
    "model = skl_lm.LinearRegression().fit(Y,y)\n",
    "print(model.coef_,0.25*model.coef_[1]+model.coef_[0])"
   ]
  },
  {
   "cell_type": "code",
   "execution_count": 7,
   "metadata": {},
   "outputs": [
    {
     "data": {
      "text/plain": [
       "0.0"
      ]
     },
     "execution_count": 7,
     "metadata": {},
     "output_type": "execute_result"
    }
   ],
   "source": [
    "np.linalg.det(Y.transpose() @ Y)"
   ]
  },
  {
   "cell_type": "code",
   "execution_count": 8,
   "metadata": {},
   "outputs": [
    {
     "name": "stdout",
     "output_type": "stream",
     "text": [
      "sanity check:  True\n",
      "OLS coefficients via SVD:  [-3.29935311 15.99741244] 0.7000000000000028\n"
     ]
    }
   ],
   "source": [
    "U, S, V = np.linalg.svd(Y,full_matrices=False)\n",
    "model_coeffs = U.transpose() @ y / S @ V\n",
    "print('sanity check: ',np.any(U @ np.diag(S) @ V - Y < 1e-12))\n",
    "print('OLS coefficients via SVD: ',model_coeffs,model_coeffs[0]+0.25*model_coeffs[1])"
   ]
  }
 ],
 "metadata": {
  "kernelspec": {
   "display_name": "Python 3",
   "language": "python",
   "name": "python3"
  },
  "language_info": {
   "codemirror_mode": {
    "name": "ipython",
    "version": 3
   },
   "file_extension": ".py",
   "mimetype": "text/x-python",
   "name": "python",
   "nbconvert_exporter": "python",
   "pygments_lexer": "ipython3",
   "version": "3.7.4"
  }
 },
 "nbformat": 4,
 "nbformat_minor": 4
}
