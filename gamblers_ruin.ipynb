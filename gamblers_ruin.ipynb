{
 "cells": [
  {
   "cell_type": "code",
   "execution_count": 1,
   "metadata": {},
   "outputs": [],
   "source": [
    "import numpy as np"
   ]
  },
  {
   "cell_type": "markdown",
   "metadata": {},
   "source": [
    "# Gambler's ruin\n",
    "\n",
    "Just a Monte Carlo implementation.\n",
    "\n",
    "By the book, the probability of winning at $N$ starting from $i$ is equal to:\n",
    "$$ p_i = \\dfrac{1-\\left(\\dfrac{1-p}p\\right)^i}{1-\\left(\\dfrac{1-p}p\\right)^N} \\text{ iff } p\\ne 1-p,\\qquad p_i = \\frac iN \\text{ otherwise}$$\n",
    "and is basically a first passage time problem for a Markov chain."
   ]
  },
  {
   "cell_type": "code",
   "execution_count": 2,
   "metadata": {},
   "outputs": [
    {
     "name": "stdout",
     "output_type": "stream",
     "text": [
      "# of played games\t: 100000\n",
      "win at\t\t\t: 3\n",
      "start from\t\t: 1\n",
      "with p\t\t\t: 0.5\n",
      "chance of winning\t: 0.33659\n",
      "time to win or lose\t: 2.00207\n"
     ]
    }
   ],
   "source": [
    "N     = 100000\n",
    "p     = 0.5\n",
    "start = 1\n",
    "win   = 3\n",
    "lose  = 0\n",
    "\n",
    "won      = 0\n",
    "lost     = 0\n",
    "avg_turn = 0\n",
    "for i in range(0,N):\n",
    "    budget = start\n",
    "    turn = 0\n",
    "    while budget != win and budget != lose:\n",
    "        turn += 1\n",
    "        bet = np.random.uniform(0,1)\n",
    "        budget = budget + 1 if bet <= p else budget - 1           \n",
    "        if budget == win:\n",
    "            won += 1\n",
    "        if budget == lose:\n",
    "            lost += 1\n",
    "    avg_turn += turn\n",
    "            \n",
    "print(\"# of played games\\t: {}\\nwin at\\t\\t\\t: {}\\nstart from\\t\\t: {}\\nwith p\\t\\t\\t: {}\\nchance of winning\\t: {}\\ntime to win or lose\\t: {}\"\n",
    "      .format(N,win,start,p,won/N,avg_turn/N))"
   ]
  }
 ],
 "metadata": {
  "kernelspec": {
   "display_name": "Python 3",
   "language": "python",
   "name": "python3"
  },
  "language_info": {
   "codemirror_mode": {
    "name": "ipython",
    "version": 3
   },
   "file_extension": ".py",
   "mimetype": "text/x-python",
   "name": "python",
   "nbconvert_exporter": "python",
   "pygments_lexer": "ipython3",
   "version": "3.7.4"
  }
 },
 "nbformat": 4,
 "nbformat_minor": 2
}
