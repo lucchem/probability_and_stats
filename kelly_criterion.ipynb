{
 "cells": [
  {
   "cell_type": "code",
   "execution_count": 1,
   "metadata": {},
   "outputs": [],
   "source": [
    "import numpy as np\n",
    "import scipy.stats as sts\n",
    "import matplotlib.pyplot as plt\n",
    "import tqdm.notebook  as tqdm"
   ]
  },
  {
   "cell_type": "markdown",
   "metadata": {},
   "source": [
    "## Kelly's criterion\n",
    "\n",
    "You start with $x$, bet $n$ times with probability $p$ a fraction $f$ of your budget.\n",
    "If you win the bet, you keep $b$ times the stake, otherwise you lose $a$ times that. Find the optimal $f$.\n",
    "After $n$ bets, winning $w$ times, you have $S(f)=x(1+bf)^w(1-af)^{n-w}$.\n",
    "\n",
    "The expected value of the logarithmic utility of $G(f)=\\left(S(f)/x\\right)^{\\frac1n}$ is:\n",
    "\\begin{equation*}\n",
    "    \\mathbb E\\left[\\log G(f)\\right]=\\mathbb E\\left[\\frac wn\\log(1+bf)+\\left(1-\\frac wn\\right)\\log(1-af)\\right]=p\\log(1+bf)+(1-p)\\log(1-af).\n",
    "\\end{equation*}\n",
    "Maximise wrt $f$:\n",
    "\\begin{equation*}\n",
    "    \\frac\\partial{\\partial f} \\mathbb E\\left[\\log G(f)\\right]=0=\\frac{pb}{1+bf}-\\frac{(1-p)a}{1-af}\\Rightarrow\n",
    "    f=\\frac{pb-(1-p)a}{ab}.\n",
    "\\end{equation*}\n",
    "E.g. fair coin, win or lose 1 ($a=b=1$), you get $f=0$, meaning it's better not to bet; but if $b=2$, $f=0.25$. See below:"
   ]
  },
  {
   "cell_type": "code",
   "execution_count": 2,
   "metadata": {},
   "outputs": [
    {
     "data": {
      "application/vnd.jupyter.widget-view+json": {
       "model_id": "1f51db1ddea944f6baa4e604038071a2",
       "version_major": 2,
       "version_minor": 0
      },
      "text/plain": [
       "HBox(children=(HTML(value='factor '), FloatProgress(value=0.0, max=11.0), HTML(value='')))"
      ]
     },
     "metadata": {},
     "output_type": "display_data"
    },
    {
     "name": "stdout",
     "output_type": "stream",
     "text": [
      "f = 0.000 - wins =   0.000 - mean profit = 1.000000e+00\n",
      "f = 0.100 - wins = 100.000 - mean profit = 1.039294e+00\n",
      "f = 0.200 - wins = 100.000 - mean profit = 1.058379e+00\n",
      "f = 0.300 - wins =  99.920 - mean profit = 1.058086e+00\n",
      "f = 0.400 - wins =  94.110 - mean profit = 1.039431e+00\n",
      "f = 0.500 - wins =  48.470 - mean profit = 1.000681e+00\n",
      "f = 0.600 - wins =   4.680 - mean profit = 9.387397e-01\n",
      "f = 0.700 - wins =   0.050 - mean profit = 8.496823e-01\n",
      "f = 0.800 - wins =   0.000 - mean profit = 7.217186e-01\n",
      "f = 0.900 - wins =   0.000 - mean profit = 5.306027e-01\n",
      "f = 1.000 - wins =   0.000 - mean profit = 0.000000e+00\n",
      "\n"
     ]
    }
   ],
   "source": [
    "n_games = 10000\n",
    "x_start = 1.0\n",
    "n = 500\n",
    "p = 0.5\n",
    "b = 2\n",
    "a = 1\n",
    "\n",
    "for f in tqdm.tqdm_notebook(np.linspace(0,1,11), desc = 'factor '):\n",
    "    wins = 0\n",
    "    prizes = []\n",
    "    for game in range(n_games):\n",
    "        x = x_start\n",
    "        for i in range(n):\n",
    "            S = f*x\n",
    "            if np.random.uniform() > p:\n",
    "                x += b*S\n",
    "            else:\n",
    "                x -= a*S\n",
    "        if x > x_start:\n",
    "            wins += 1\n",
    "        prizes.append((x/x_start)**(1/n))\n",
    "        if f == 0.2:\n",
    "            work = prizes\n",
    "\n",
    "    print('f = {:5.3f} - wins = {:7.3f} - mean profit = {:.6e}'.format(f,100*wins/n_games,np.mean(prizes)))"
   ]
  },
  {
   "cell_type": "code",
   "execution_count": 3,
   "metadata": {},
   "outputs": [
    {
     "data": {
      "image/png": "[encoded data removed]",
      "text/plain": [
       "<Figure size 432x288 with 1 Axes>"
      ]
     },
     "metadata": {
      "needs_background": "light"
     },
     "output_type": "display_data"
    }
   ],
   "source": [
    "data = np.log(work)\n",
    "mu = data.mean()\n",
    "std = data.std()\n",
    "\n",
    "plt.hist(data, bins = 50, density = True, log = True, histtype = 'step')\n",
    "h = np.linspace(data.min(),data.max(),80)\n",
    "plt.plot(h,sts.norm.pdf(h, loc = mu, scale = std))\n",
    "plt.show()"
   ]
  }
 ],
 "metadata": {
  "kernelspec": {
   "display_name": "Python 3",
   "language": "python",
   "name": "python3"
  },
  "language_info": {
   "codemirror_mode": {
    "name": "ipython",
    "version": 3
   },
   "file_extension": ".py",
   "mimetype": "text/x-python",
   "name": "python",
   "nbconvert_exporter": "python",
   "pygments_lexer": "ipython3",
   "version": "3.7.4"
  }
 },
 "nbformat": 4,
 "nbformat_minor": 4
}
