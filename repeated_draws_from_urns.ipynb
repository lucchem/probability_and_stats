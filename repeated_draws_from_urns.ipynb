{
 "cells": [
  {
   "cell_type": "code",
   "execution_count": 2,
   "metadata": {},
   "outputs": [],
   "source": [
    "import numpy as np\n",
    "import random"
   ]
  },
  {
   "cell_type": "markdown",
   "metadata": {},
   "source": [
    "# Repeated extraction from urns\n",
    "\n",
    "Interview question during a Hackerrank\n",
    "\n",
    "_Two urns carry 8 \\\\$1 coins and 2 \\\\$10 coins, and 5 \\\\$1 and \\\\$10. You take one urn and get \\\\$1. You get the chance to re-draw without replacing the \\\\$1 you took. Should you change urn? What is the expected value of the newly extracted chip?_\n",
    "\n",
    "The sample space is made by events. U1 is the event of choosing urn 1, D1 is the even of drawing \\\\$1 at the first draw, then S and C are the events stay and change urn, while N1 and N10 are new draws of a \\\\$1 or \\\\$10 coin.:\n",
    "1. U1, D1, S, N1, $\\mathbb P(\\omega_1)=0.155555$\n",
    "2. U1, D1, S, N10, $\\mathbb P(\\omega_2)=0.0444444$\n",
    "3. U1, D1, C, N1, $\\mathbb P(\\omega_3)=0.1$\n",
    "4. U1, D1, C, N10, $\\mathbb P(\\omega_4)=0.1$\n",
    "5. U1, D10, S, N1, $\\mathbb P(\\omega_5)=0.0444444$\n",
    "6. U1, D10, S, N10, $\\mathbb P(\\omega_6)=0.005555555$\n",
    "7. U1, D10, C, N1, $\\mathbb P(\\omega_7)=0.025$\n",
    "8. U1, D10, C, N10, $\\mathbb P(\\omega_8)=0.025$\n",
    "9. U2, D1, S, N1, $\\mathbb P(\\omega_9)=0.1$\n",
    "10. U2, D1, S, N10, $\\mathbb P(\\omega_{10})=0.025$\n",
    "11. U2, D1, C, N1, $\\mathbb P(\\omega_{11})=0.055555$\n",
    "12. U2, D1, C, N10, $\\mathbb P(\\omega_{12})=0.0694444444$\n",
    "13. U2, D10, S, N1, $\\mathbb P(\\omega_{13})=0.0694444444$\n",
    "14. U2, D10, S, N10, $\\mathbb P(\\omega_{14})=0.055555$\n",
    "15. U2, D10, C, N1, $\\mathbb P(\\omega_{15})=0.1$\n",
    "16. U2, D10, C, N10, $\\mathbb P(\\omega_{16})=0.025$\n",
    "\n",
    "The listed events total to 1.\n",
    "\n",
    "Note:\n",
    "$$\\mathbb E[S|D1\\cap U1]=\\frac79+\\frac29 10=3,        \\quad\\mathbb E[S|D1\\cap U2]=\\frac49+\\frac59 10=6$$\n",
    "$$\\mathbb E[C|D1\\cap U1]=\\frac5{10}+\\frac5{10} 10=5.5,\\quad\\mathbb E[C|D1\\cap U2]=\\frac8{10}+\\frac2{10} 10=2.8$$\n",
    "Staying is convenient, with an average win of 4.5, while changing averagely yields 4.15.\n",
    "\n",
    "Monte Carlo:"
   ]
  },
  {
   "cell_type": "code",
   "execution_count": 14,
   "metadata": {},
   "outputs": [
    {
     "name": "stdout",
     "output_type": "stream",
     "text": [
      "change:  4.140244\n",
      "stay:  4.495384\n"
     ]
    }
   ],
   "source": [
    "games = 500000\n",
    "\n",
    "for stay in [False,True]:\n",
    "    avg_win=0\n",
    "    coins_1_stay = [1,1,1,1,1,1,1,10,10]\n",
    "    coins_2_stay = [1,1,1,1,10,10,10,10,10]\n",
    "    coins_1_change = [1,1,1,1,1,1,1,1,10,10]\n",
    "    coins_2_change = [1,1,1,1,1,10,10,10,10,10]\n",
    "    for game in range(games):\n",
    "        if np.random.uniform() < 0.5:\n",
    "            if stay:\n",
    "                avg_win += random.choice(coins_1_stay)\n",
    "            else:\n",
    "                avg_win += random.choice(coins_1_change)            \n",
    "        else:\n",
    "            if stay:\n",
    "                avg_win += random.choice(coins_2_stay)\n",
    "            else:\n",
    "                avg_win += random.choice(coins_2_change)\n",
    "    print(['stay: ' if stay else 'change: '][0], avg_win/games)"
   ]
  }
 ],
 "metadata": {
  "kernelspec": {
   "display_name": "Python 3",
   "language": "python",
   "name": "python3"
  },
  "language_info": {
   "codemirror_mode": {
    "name": "ipython",
    "version": 3
   },
   "file_extension": ".py",
   "mimetype": "text/x-python",
   "name": "python",
   "nbconvert_exporter": "python",
   "pygments_lexer": "ipython3",
   "version": "3.7.4"
  }
 },
 "nbformat": 4,
 "nbformat_minor": 4
}
