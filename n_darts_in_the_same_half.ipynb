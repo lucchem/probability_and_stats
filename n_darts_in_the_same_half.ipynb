{
 "cells": [
  {
   "cell_type": "code",
   "execution_count": 1,
   "metadata": {},
   "outputs": [],
   "source": [
    "import numpy as np"
   ]
  },
  {
   "cell_type": "markdown",
   "metadata": {},
   "source": [
    "# Probability that $n$ darts hit the same half of the target\n",
    "\n",
    "Asked during interview.\n",
    "\n",
    "Q: _I shoot $n$ darts on a target: what is the probability that they all hit the same half of the target?_\n",
    "\n",
    "After you shot them, consider each dart as an _angle_ $\\theta_i$, uniformly distributed between 0 and $2\\pi$, or, between 0 and 1 circle.\n",
    "Sort them, so that they look like an order statistics of $n$ elements distributed between 0 and 1 circle (from now, just between 0 and 1).\n",
    "They will lie in a single half of the target only if one of these conditions are verified: i) $\\theta_{(n)}-\\theta_{(1)}<\\frac12$, or $\\theta_{(i)}-\\theta_{(i-1)}> \\frac12$ for some $i$.\n",
    "Note: all these events are disjoint.\n",
    "For such order statistics, one can see that:\n",
    "$$\\mathbb P(\\theta_{(n)}-\\theta_{(1)} < x)=n(n-1)\\int_0^x r^{n-2}(1-r)\\,\\text dr = nx^{n-1}-(n-1)x^n,\\qquad \\mathbb P(\\theta_{(i)}-\\theta_{(i-1)}>x)=(1-x)^n\\Rightarrow (n-1)\\mathbb P(\\theta_{(i)}-\\theta_{(i-1)}>x)=(n-1)(1-x)^n,$$\n",
    "$$\\mathbb P(\\theta_{(n)}-\\theta_{(1)} < x)+(n-1)\\mathbb P(\\theta_{(i)}-\\theta_{(i-1)}>x)=nx^{n-1}-(n-1)x^n+(n-1)(1-x)^n$$\n",
    "In our case $x=\\frac12$, so\n",
    "$$\\mathbb P\\left(\\theta_{(n)}-\\theta_{(1)} < \\frac12\\right)+(n-1)\\mathbb P\\left(\\theta_{(i)}-\\theta_{(i-1)}>\\frac12\\right)=\\frac n{2^{n-1}}.$$\n",
    "\n",
    "Another possible proof comes from this idea: call $\\mathbb P(n)$ the probability that $n$ darts lie in the same half of the target.\n",
    "Set up the following recursion:\n",
    "$$\\mathbb P(n)=\\mathbb P(n\\cap n-1)=\\mathbb P(n|n-1)\\mathbb P(n-1)=\\mathbb P(n|n-1)\\mathbb P(n-1|n-2)..\\mathbb P(3|2)\\mathbb P(2),\\quad \\mathbb P(2)=1.$$\n",
    "As they are uniformly distributed between 0 and half circle, the $n$-th dart should not be fallen on the opposite slice comprised between the first and the last dart, the $n-1$-th.\n",
    "Imagine that the first dart corresponds to $X_{(0)}$ and the $n-1$-th to $X_{(n-2)}$.\n",
    "Then:\n",
    "$$\\mathbb P(n|n-1)=1-\\mathbb E\\left[X_{(n-2)}-X_{(0)}\\right]=1-\\mathbb E\\left[X_{(n-2)}-X_{(1)}\\right]-\\mathbb E\\left[X_{(1)}-X_{(0)}\\right].$$\n",
    "The first expectation is the expected value of the range of $n-2$ order statistics distributed between 0 and $\\frac12$.\n",
    "Transform the density of the range in $[0,1)$ and integrate:\n",
    "$$ \\mathbb E\\left[X_{(n-2)}-X_{(1)}\\right] = \\frac{n-2}{2(n-1)}.$$\n",
    "The second expectation is the expected value of the gap between two order statistics of a population of $n-2$ of them, on a range from 0 to $\\frac12$.\n",
    "$$\\mathbb E\\left[X_{(1)}-X_{(0)}\\right]=\\frac1{2(n-1)}.$$\n",
    "$$\\mathbb P(n|n-1)=1-\\frac{n-2}{2(n-1)}-\\frac1{2(n-1)}=\\frac n{2(n-1)}.$$\n",
    "Setting up the recursion:\n",
    "$$\\mathbb P(n)=\\mathbb P(n|n-1)\\mathbb P(n-1|n-2)..\\mathbb P(3|2)\\mathbb P(2)=\\frac n{2(n-1)}\\frac {n-1}{2(n-2)}\\frac {n-2}{2(n-3)}..\\frac {3}{2\\cdot 2}=\\frac n{2\\cdot 2^{n-2}}=\\frac n{2^{n-1}}.$$\n",
    "\n",
    "Comparing with a Monte Carlo approach (also added a cute CLT verification):"
   ]
  },
  {
   "cell_type": "code",
   "execution_count": 1,
   "metadata": {},
   "outputs": [
    {
     "ename": "NameError",
     "evalue": "name 'np' is not defined",
     "output_type": "error",
     "traceback": [
      "\u001b[0;31m---------------------------------------------------------------------------\u001b[0m",
      "\u001b[0;31mNameError\u001b[0m                                 Traceback (most recent call last)",
      "\u001b[0;32m<ipython-input-1-b2366297dee5>\u001b[0m in \u001b[0;36m<module>\u001b[0;34m\u001b[0m\n\u001b[1;32m      3\u001b[0m \u001b[0moutcome\u001b[0m \u001b[0;34m=\u001b[0m \u001b[0;34m[\u001b[0m\u001b[0;34m]\u001b[0m\u001b[0;34m\u001b[0m\u001b[0;34m\u001b[0m\u001b[0m\n\u001b[1;32m      4\u001b[0m \u001b[0;32mfor\u001b[0m \u001b[0mgame\u001b[0m \u001b[0;32min\u001b[0m \u001b[0mrange\u001b[0m\u001b[0;34m(\u001b[0m\u001b[0;36m100000\u001b[0m\u001b[0;34m)\u001b[0m\u001b[0;34m:\u001b[0m\u001b[0;34m\u001b[0m\u001b[0;34m\u001b[0m\u001b[0m\n\u001b[0;32m----> 5\u001b[0;31m     \u001b[0mdarts\u001b[0m \u001b[0;34m=\u001b[0m \u001b[0mnp\u001b[0m\u001b[0;34m.\u001b[0m\u001b[0msort\u001b[0m\u001b[0;34m(\u001b[0m\u001b[0mnp\u001b[0m\u001b[0;34m.\u001b[0m\u001b[0mrandom\u001b[0m\u001b[0;34m.\u001b[0m\u001b[0muniform\u001b[0m\u001b[0;34m(\u001b[0m\u001b[0;36m0\u001b[0m\u001b[0;34m,\u001b[0m\u001b[0;36m360\u001b[0m\u001b[0;34m,\u001b[0m\u001b[0mN\u001b[0m\u001b[0;34m)\u001b[0m\u001b[0;34m)\u001b[0m\u001b[0;34m\u001b[0m\u001b[0;34m\u001b[0m\u001b[0m\n\u001b[0m\u001b[1;32m      6\u001b[0m     \u001b[0mdarts_diff\u001b[0m \u001b[0;34m=\u001b[0m \u001b[0mdarts\u001b[0m\u001b[0;34m[\u001b[0m\u001b[0;36m1\u001b[0m\u001b[0;34m:\u001b[0m\u001b[0;34m]\u001b[0m\u001b[0;34m-\u001b[0m\u001b[0mdarts\u001b[0m\u001b[0;34m[\u001b[0m\u001b[0;34m:\u001b[0m\u001b[0;34m-\u001b[0m\u001b[0;36m1\u001b[0m\u001b[0;34m]\u001b[0m\u001b[0;34m\u001b[0m\u001b[0;34m\u001b[0m\u001b[0m\n\u001b[1;32m      7\u001b[0m     \u001b[0;32mif\u001b[0m \u001b[0many\u001b[0m\u001b[0;34m(\u001b[0m\u001b[0mdarts_diff\u001b[0m \u001b[0;34m>\u001b[0m \u001b[0;36m180\u001b[0m\u001b[0;34m)\u001b[0m \u001b[0;32mor\u001b[0m \u001b[0mdarts\u001b[0m\u001b[0;34m[\u001b[0m\u001b[0;34m-\u001b[0m\u001b[0;36m1\u001b[0m\u001b[0;34m]\u001b[0m \u001b[0;34m-\u001b[0m \u001b[0mdarts\u001b[0m\u001b[0;34m[\u001b[0m\u001b[0;36m0\u001b[0m\u001b[0;34m]\u001b[0m \u001b[0;34m<\u001b[0m \u001b[0;36m180\u001b[0m\u001b[0;34m:\u001b[0m\u001b[0;34m\u001b[0m\u001b[0;34m\u001b[0m\u001b[0m\n",
      "\u001b[0;31mNameError\u001b[0m: name 'np' is not defined"
     ]
    }
   ],
   "source": [
    "N = 4\n",
    "\n",
    "outcome = []\n",
    "for game in range(100000):\n",
    "    darts = np.sort(np.random.uniform(0,360,N))\n",
    "    darts_diff = darts[1:]-darts[:-1]\n",
    "    if any(darts_diff > 180) or darts[-1] - darts[0] < 180:\n",
    "        outcome.append(1)\n",
    "    else:\n",
    "        outcome.append(0)\n",
    "print(sum(outcome)/throws,N/2**(N-1))\n",
    "        \n",
    "outcome = np.array(outcome)\n",
    "mean = np.array([])\n",
    "sdev = np.array([])\n",
    "for i in range(90000):\n",
    "    sample = outcome[i:10000+i]\n",
    "    mean = np.append(mean,sample.mean())\n",
    "    sdev = np.append(sdev,sample.std())\n",
    "    \n",
    "clt_verif = (mean - mean.mean())/(sdev.mean()/np.sqrt(len(sample)))\n",
    "print('verify CLT: ',clt_verif.mean(),clt_verif.std())"
   ]
  },
  {
   "cell_type": "code",
   "execution_count": null,
   "metadata": {},
   "outputs": [],
   "source": []
  }
 ],
 "metadata": {
  "kernelspec": {
   "display_name": "Python 3",
   "language": "python",
   "name": "python3"
  },
  "language_info": {
   "codemirror_mode": {
    "name": "ipython",
    "version": 3
   },
   "file_extension": ".py",
   "mimetype": "text/x-python",
   "name": "python",
   "nbconvert_exporter": "python",
   "pygments_lexer": "ipython3",
   "version": "3.7.4"
  }
 },
 "nbformat": 4,
 "nbformat_minor": 4
}
