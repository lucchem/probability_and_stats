{
 "cells": [
  {
   "cell_type": "code",
   "execution_count": 1,
   "metadata": {},
   "outputs": [],
   "source": [
    "import numpy as np"
   ]
  },
  {
   "cell_type": "markdown",
   "metadata": {},
   "source": [
    "# Probability that $n$ darts hit the same half of the target\n",
    "\n",
    "Asked during interview.\n",
    "\n",
    "Q: _I shoot $n$ darts on a target: what is the probability that they all hit the same half of the target?_\n",
    "\n",
    "After you shot them, consider each dart as an _angle_ $\\theta_i$, uniformly distributed between 0 and $2\\pi$, or, between 0 and 1 circle. Sort them, so that they look like an order statistics of $n$ elements distributed between 0 and 1 circle (from now, just between 0 and 1).\n",
    "\n",
    "They will lie in a single half of the target only if one of these conditions are verified: i) $\\theta_{(n)}-\\theta_{(1)}<\\frac12$, or $\\theta_{(i)}-\\theta_{(i-1)}> \\frac12$ for some $i$. Note: all these events are disjoint.\n",
    "\n",
    "For such order statistics, one can see that:\n",
    "$$\\mathbb P(\\theta_{(n)}-\\theta_{(1)} < x)=n(n-1)\\int_0^x r^{n-2}(1-r)\\,\\text dr = nx^{n-1}-(n-1)x^n,\\qquad \\mathbb P(\\theta_{(i)}-\\theta_{(i-1)}>x)=(1-x)^n\\Rightarrow (n-1)\\mathbb P(\\theta_{(i)}-\\theta_{(i-1)}>x)=(n-1)(1-x)^n,$$\n",
    "$$\\mathbb P(\\theta_{(n)}-\\theta_{(1)} < x)+(n-1)\\mathbb P(\\theta_{(i)}-\\theta_{(i-1)}>x)=nx^{n-1}-(n-1)x^n+(n-1)(1-x)^n$$\n",
    "In our case $x=\\frac12$, so\n",
    "$$\\mathbb P\\left(\\theta_{(n)}-\\theta_{(1)} < \\frac12\\right)+(n-1)\\mathbb P\\left(\\theta_{(i)}-\\theta_{(i-1)}>\\frac12\\right)=\\frac n{2^{n-1}}.$$\n",
    "\n",
    "Another possible proof comes from this idea: call $\\mathbb P(n)$ the probability that $n$ darts lie in the same half of the target. As they are uniformly distributed between 0 and half circle, the $n+1$-th dart should fall on either the half target already hit, or between the slice before the first dart with size equal to the average distance between darts, to become the new \"first dart\":\n",
    "$$\\mathbb P(n|n-1)=\\frac{180}{(n-1)360}+\\frac{180}{360}=\\frac12\\frac n{n-1}.$$\n",
    "So:\n",
    "$$ \\mathbb P(n)=\\mathbb P(n\\cap n-1)=\\mathbb P(n|n-1)\\mathbb P(n-1)=\\mathbb P(n|n-1)\\mathbb P(n-1|n-2)\\mathbb P(n-2)=\n",
    "\\mathbb P(n|n-1)\\mathbb P(n-1|n-2)..\\mathbb P(3|2)\\mathbb P(2)=\n",
    "\\frac12\\frac n{n-1}\\times\\frac12\\frac {n-1}{n-2}\\times..\\times\\frac12\\frac {3}{2}\\times\\mathbb P(2).$$\n",
    "All the numerators disappear apart of $n$, and all the denominators disappear apart of a 2. Also, there are $n-2$ factors $\\frac12$, so:\n",
    "$$ \\mathbb P(n)=\\frac n{2\\cdot2^{n-2}}=\\frac n{2^{n-1}}.$$\n",
    "\n",
    "Comparing with a Monte Carlo approach (also added a cute CLT verification):"
   ]
  },
  {
   "cell_type": "code",
   "execution_count": 30,
   "metadata": {},
   "outputs": [
    {
     "name": "stdout",
     "output_type": "stream",
     "text": [
      "0.50053 0.5\n",
      "verify CLT:  -2.7739588404074313e-15 1.0622334932764157\n"
     ]
    }
   ],
   "source": [
    "N = 4\n",
    "\n",
    "outcome = []\n",
    "for game in range(100000):\n",
    "    darts = np.sort(np.random.uniform(0,360,N))\n",
    "    darts_diff = darts[1:]-darts[:-1]\n",
    "    if any(darts_diff > 180) or darts[-1] - darts[0] < 180:\n",
    "        outcome.append(1)\n",
    "    else:\n",
    "        outcome.append(0)\n",
    "print(sum(outcome)/throws,N/2**(N-1))\n",
    "        \n",
    "outcome = np.array(outcome)\n",
    "mean = np.array([])\n",
    "sdev = np.array([])\n",
    "for i in range(90000):\n",
    "    sample = outcome[i:10000+i]\n",
    "    mean = np.append(mean,sample.mean())\n",
    "    sdev = np.append(sdev,sample.std())\n",
    "    \n",
    "clt_verif = (mean - mean.mean())/(sdev.mean()/np.sqrt(len(sample)))\n",
    "print('verify CLT: ',clt_verif.mean(),clt_verif.std())"
   ]
  }
 ],
 "metadata": {
  "kernelspec": {
   "display_name": "Python 3",
   "language": "python",
   "name": "python3"
  },
  "language_info": {
   "codemirror_mode": {
    "name": "ipython",
    "version": 3
   },
   "file_extension": ".py",
   "mimetype": "text/x-python",
   "name": "python",
   "nbconvert_exporter": "python",
   "pygments_lexer": "ipython3",
   "version": "3.7.4"
  }
 },
 "nbformat": 4,
 "nbformat_minor": 4
}
