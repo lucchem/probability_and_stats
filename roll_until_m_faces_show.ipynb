{
 "cells": [
  {
   "cell_type": "code",
   "execution_count": 1,
   "metadata": {},
   "outputs": [],
   "source": [
    "import numpy as np"
   ]
  },
  {
   "cell_type": "markdown",
   "metadata": {},
   "source": [
    "# Dice game: roll a $n$-dice until $m$ faces are out\n",
    "\n",
    "Asked during a Hackerrank.\n",
    "\n",
    "This game is set up this way: roll until $m$ different faces were shown and then gain the sum of shown faces, paying 1 for each draw.\n",
    "\n",
    "It can be modeled as a Markov chain, where $m+1$ states are present, from 0 to $m$, equal to the number of faces already appeared. Clearly, $m$ is an absorbing state, and the following equations for the conditional probabilities hold:\n",
    "$$ p_0 = p_1,\\quad p_i=\\frac in p_i+\\left(1-\\frac in\\right)p_{i+1}\\,i\\in\\{1,..,m-1\\}\\Rightarrow p_i=p_{i+1},\\quad p_m=1\\Rightarrow p_i=1.$$\n",
    "It means that no matter what, before or after the game will be over.\n",
    "Also, the expected cost can be estimated as the average time to absorption:\n",
    "$$ t_0 = 1+t_1,\\quad t_i=1+\\frac in t_i+\\left(1-\\frac in\\right)t_{i+1}\\,i\\in\\{1,..,m-1\\}\\Rightarrow t_i=\\frac i{n-i}+t_{i+1},\\quad t_m=0.$$\n",
    "A possible implementation is:"
   ]
  },
  {
   "cell_type": "code",
   "execution_count": 2,
   "metadata": {},
   "outputs": [
    {
     "name": "stdout",
     "output_type": "stream",
     "text": [
      "8-dice, expected time to show 1 faces: 1.00\n",
      "8-dice, expected time to show 2 faces: 2.14\n",
      "8-dice, expected time to show 3 faces: 3.48\n",
      "8-dice, expected time to show 4 faces: 5.08\n",
      "8-dice, expected time to show 5 faces: 7.08\n",
      "8-dice, expected time to show 6 faces: 9.74\n",
      "8-dice, expected time to show 7 faces: 13.74\n",
      "8-dice, expected time to show 8 faces: 21.74\n"
     ]
    }
   ],
   "source": [
    "n = 8\n",
    "\n",
    "for m in range(1,n+1):\n",
    "    t = [ 0 for i in range(m+1) ]\n",
    "    for i in range(m-1,-1,-1):\n",
    "        t[i] = n/(n-i) + t[i+1]\n",
    "    print('{}-dice, expected time to show {} faces: {:.2f}'.format(n,m,t[0]))"
   ]
  },
  {
   "cell_type": "markdown",
   "metadata": {},
   "source": [
    "One can actually do this via Monte Carlo: just stop the dice when the chosen number of faces has been shown, track the cost, and compute averages. The cost function is a function of the number of turns, and can be implemented in different ways."
   ]
  },
  {
   "cell_type": "code",
   "execution_count": 3,
   "metadata": {},
   "outputs": [
    {
     "name": "stdout",
     "output_type": "stream",
     "text": [
      "8-dice, expected time to show 1 faces:  1.00 - expected prize:  3.52\n",
      "8-dice, expected time to show 2 faces:  2.14 - expected prize:  6.83\n",
      "8-dice, expected time to show 3 faces:  3.48 - expected prize: 10.00\n",
      "8-dice, expected time to show 4 faces:  5.08 - expected prize: 12.97\n",
      "8-dice, expected time to show 5 faces:  7.07 - expected prize: 15.34\n",
      "8-dice, expected time to show 6 faces:  9.70 - expected prize: 17.37\n",
      "8-dice, expected time to show 7 faces: 13.77 - expected prize: 17.74\n",
      "8-dice, expected time to show 8 faces: 21.73 - expected prize: 14.27\n"
     ]
    }
   ],
   "source": [
    "def cost_function(cost):\n",
    "    return cost\n",
    "\n",
    "ngames = 5000\n",
    "\n",
    "for ending_no in range(1,n+1):\n",
    "    mean, meac = 0, 0\n",
    "    for game in range(1,ngames):\n",
    "        seen = []\n",
    "        cost = 0\n",
    "        while True:\n",
    "            face = np.random.random_integers(1,n)\n",
    "            cost += 1\n",
    "            if face not in seen:\n",
    "                seen.append(face)\n",
    "            if len(seen) == ending_no:\n",
    "                break\n",
    "        mean += sum(seen) - cost_function(cost)\n",
    "        meac += cost_function(cost)\n",
    "    mean /= ngames\n",
    "    meac /= ngames\n",
    "\n",
    "    print('{}-dice, expected time to show {} faces: {:5.2f} - expected prize: {:5.2f}'.format(n,ending_no,meac,mean))"
   ]
  }
 ],
 "metadata": {
  "kernelspec": {
   "display_name": "Python 3",
   "language": "python",
   "name": "python3"
  },
  "language_info": {
   "codemirror_mode": {
    "name": "ipython",
    "version": 3
   },
   "file_extension": ".py",
   "mimetype": "text/x-python",
   "name": "python",
   "nbconvert_exporter": "python",
   "pygments_lexer": "ipython3",
   "version": "3.7.4"
  }
 },
 "nbformat": 4,
 "nbformat_minor": 4
}
